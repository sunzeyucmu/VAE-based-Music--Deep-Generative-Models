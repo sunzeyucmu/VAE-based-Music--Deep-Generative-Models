{
  "nbformat": 4,
  "nbformat_minor": 0,
  "metadata": {
    "colab": {
      "name": "tf_2.0_keras_vq_vae",
      "provenance": [],
      "collapsed_sections": [],
      "toc_visible": true,
      "machine_shape": "hm"
    },
    "kernelspec": {
      "display_name": "Python 3",
      "language": "python",
      "name": "python3"
    },
    "language_info": {
      "codemirror_mode": {
        "name": "ipython",
        "version": 3
      },
      "file_extension": ".py",
      "mimetype": "text/x-python",
      "name": "python",
      "nbconvert_exporter": "python",
      "pygments_lexer": "ipython3",
      "version": "3.7.0"
    },
    "accelerator": "GPU"
  },
  "cells": [
    {
      "cell_type": "markdown",
      "metadata": {
        "id": "yi8q22q5uAkJ"
      },
      "source": [
        "# Vector-Quantized Variational Autoencoders\n",
        "\n",
        "**Author:** [Sayak Paul](https://twitter.com/RisingSayak)<br>\n",
        "**Date created:** 2021/07/21<br>\n",
        "**Last modified:** 2021/07/21<br>\n",
        "**Description:** Training a VQ-VAE for image reconstruction and codebook sampling for generation."
      ]
    },
    {
      "cell_type": "markdown",
      "metadata": {
        "id": "ep_d50zQuAkM"
      },
      "source": [
        "In this example, we will develop a Vector Quantized Variational Autoencoder (VQ-VAE).\n",
        "VQ-VAE was proposed in\n",
        "[Neural Discrete Representation Learning](https://arxiv.org/abs/1711.00937)\n",
        "by van der Oord et al. In traditional VAEs, the latent space is continuous and is sampled\n",
        "from a Gaussian distribution. It is generally harder to learn such a continuous\n",
        "distribution via gradient descent. VQ-VAEs, on the other hand,\n",
        "operate on a discrete latent space, making the optimization problem simpler. It does so\n",
        "by maintaining a discrete *codebook*. The codebook is developed by\n",
        "discretizing the distance between continuous embeddings and the encoded\n",
        "outputs. These discrete code words are then fed to the decoder, which is trained\n",
        "to generate reconstructed samples.\n",
        "\n",
        "For a detailed overview of VQ-VAEs, please refer to the original paper and\n",
        "[this video explanation](https://www.youtube.com/watch?v=VZFVUrYcig0).\n",
        "If you need a refresher on VAEs, you can refer to\n",
        "[this book chapter](https://livebook.manning.com/book/deep-learning-with-python-second-edition/chapter-12/).\n",
        "VQ-VAEs are one of the main recipes behind [DALL-E](https://openai.com/blog/dall-e/)\n",
        "and the idea of a codebook is used in [VQ-GANs](https://arxiv.org/abs/2012.09841).\n",
        "\n",
        "This example uses references from the\n",
        "[official VQ-VAE tutorial](https://github.com/deepmind/sonnet/blob/master/sonnet/examples/vqvae_example.ipynb)\n",
        "from DeepMind. To run this example, you will need TensorFlow 2.5 or higher, as well as\n",
        "TensorFlow Probability, which can be installed using the command below."
      ]
    },
    {
      "cell_type": "code",
      "metadata": {
        "id": "IYB52XybuAkM"
      },
      "source": [
        "!pip install -q tensorflow-probability"
      ],
      "execution_count": 14,
      "outputs": []
    },
    {
      "cell_type": "markdown",
      "metadata": {
        "id": "Z-c62fCMuAkN"
      },
      "source": [
        "## Imports"
      ]
    },
    {
      "cell_type": "code",
      "metadata": {
        "id": "le048x_LuAkN"
      },
      "source": [
        "import numpy as np\n",
        "import matplotlib.pyplot as plt\n",
        "\n",
        "from tensorflow import keras\n",
        "from tensorflow.keras import layers\n",
        "import tensorflow_probability as tfp\n",
        "import tensorflow as tf"
      ],
      "execution_count": 15,
      "outputs": []
    },
    {
      "cell_type": "code",
      "metadata": {
        "colab": {
          "base_uri": "https://localhost:8080/"
        },
        "id": "71ZJUqw1qvSf",
        "outputId": "37662ffa-de04-46a5-8174-184178798641"
      },
      "source": [
        "print(tf.__version__)"
      ],
      "execution_count": 31,
      "outputs": [
        {
          "output_type": "stream",
          "name": "stdout",
          "text": [
            "2.7.0\n"
          ]
        }
      ]
    },
    {
      "cell_type": "markdown",
      "metadata": {
        "id": "dJbE63hEuAkO"
      },
      "source": [
        "## `VectorQuantizer` layer\n",
        "\n",
        "Here, we will implement a custom layer to encapsulate the vector\n",
        "quantizer logic, which is the central component of VQ-VAEs.\n",
        "Consider an output from the encoder, with shape `(batch_size, height, width, num_channels)`.\n",
        "The vector quantizer will first\n",
        "flatten this output, only keeping the `num_channels` dimension intact. So, the shape would\n",
        "become `(batch_size * height * width, num_channels)`. The rationale behind this is to\n",
        "treat the total number of channels as the space for the latent embeddings.\n",
        "\n",
        "An embedding table is then initialized to learn a codebook. We measure the L2-normalized\n",
        "distance between the flattened encoder outputs and code words of this codebook. We take the\n",
        "code that yields the minimum distance, and we apply one-hot encoding to achieve quantization.\n",
        "This way, the code yielding the minimum distance to the corresponding encoder output is\n",
        "mapped as one and the remaining codes are mapped as zeros.\n",
        "\n",
        "Since the quantization process is not differentiable, we apply a\n",
        "[straight-through estimator](https://www.hassanaskary.com/python/pytorch/deep%20learning/2020/09/19/intuitive-explanation-of-straight-through-estimators.html)\n",
        "in between the decoder and the encoder, so that the decoder gradients are directly propagated\n",
        "to the encoder. As the encoder and decoder share the same channel space, the hope is that the\n",
        "decoder gradients will still be meaningful to the encoder."
      ]
    },
    {
      "cell_type": "code",
      "metadata": {
        "colab": {
          "base_uri": "https://localhost:8080/"
        },
        "id": "NIPCgzbBz28L",
        "outputId": "34b6a1e8-93e9-4b31-9408-855af3683edd"
      },
      "source": [
        "# DEV\n",
        "tf.one_hot([3,1,0,2,1], depth=4)"
      ],
      "execution_count": 32,
      "outputs": [
        {
          "output_type": "execute_result",
          "data": {
            "text/plain": [
              "<tf.Tensor: shape=(5, 4), dtype=float32, numpy=\n",
              "array([[0., 0., 0., 1.],\n",
              "       [0., 1., 0., 0.],\n",
              "       [1., 0., 0., 0.],\n",
              "       [0., 0., 1., 0.],\n",
              "       [0., 1., 0., 0.]], dtype=float32)>"
            ]
          },
          "metadata": {},
          "execution_count": 32
        }
      ]
    },
    {
      "cell_type": "code",
      "metadata": {
        "id": "5WWPb5RluAkO"
      },
      "source": [
        "\n",
        "class VectorQuantizer(layers.Layer):\n",
        "    def __init__(self, num_embeddings, embedding_dim, beta=0.25, **kwargs):\n",
        "        super().__init__(**kwargs)\n",
        "        self.embedding_dim = embedding_dim\n",
        "        self.num_embeddings = num_embeddings\n",
        "        self.beta = (\n",
        "            beta  # This parameter is best kept between [0.25, 2] as per the paper.\n",
        "        )\n",
        "\n",
        "        # Initialize the embeddings which we will quantize.\n",
        "        w_init = tf.random_uniform_initializer()\n",
        "        ## Latent Embedding Space: K x D/L\n",
        "        self.embeddings = tf.Variable(\n",
        "            initial_value=w_init(\n",
        "                shape=(self.embedding_dim, self.num_embeddings), dtype=\"float32\"\n",
        "            ),\n",
        "            trainable=True,\n",
        "            name=\"embeddings_vqvae\",\n",
        "        )\n",
        "\n",
        "    def call(self, x):\n",
        "        # Calculate the input shape of the inputs and\n",
        "        # then flatten the inputs keeping `embedding_dim` intact.\n",
        "        # input x: (B, H, W, L) -flatten-> (N, L)\n",
        "        input_shape = tf.shape(x)\n",
        "        flattened = tf.reshape(x, [-1, self.embedding_dim])\n",
        "\n",
        "        # Quantization.\n",
        "        ## (N, )\n",
        "        encoding_indices = self.get_code_indices(flattened)\n",
        "        # (N, K): get one-hot embedding for each instance/row of N\n",
        "        encodings = tf.one_hot(encoding_indices, self.num_embeddings)\n",
        "        # (N, L): get the correcponding embedding for each instance of N from the codebook/E\n",
        "        quantized = tf.matmul(encodings, self.embeddings, transpose_b=True)\n",
        "        # recover the previous flattened input to (B, H, W, L) in Image/Conv2D case\n",
        "        quantized = tf.reshape(quantized, input_shape)\n",
        "\n",
        "        # Calculate vector quantization loss and add that to the layer. You can learn more\n",
        "        # about adding losses to different layers here:\n",
        "        # https://keras.io/guides/making_new_layers_and_models_via_subclassing/. Check\n",
        "        # the original paper to get a handle on the formulation of the loss function.\n",
        "        commitment_loss = self.beta * tf.reduce_mean(\n",
        "            (tf.stop_gradient(quantized) - x) ** 2\n",
        "        )\n",
        "        codebook_loss = tf.reduce_mean((quantized - tf.stop_gradient(x)) ** 2)\n",
        "        self.add_loss(commitment_loss + codebook_loss)\n",
        "\n",
        "        # Straight-through estimator.\n",
        "        ## Training/BackProp trick?\n",
        "        quantized = x + tf.stop_gradient(quantized - x)\n",
        "        return quantized\n",
        "\n",
        "    '''\n",
        "    Output shape: (N, )\n",
        "    '''\n",
        "    def get_code_indices(self, flattened_inputs):\n",
        "        # Calculate L2-normalized distance between the inputs and the codes.\n",
        "        # (N, K)\n",
        "        similarity = tf.matmul(flattened_inputs, self.embeddings)\n",
        "        # (N, K)\n",
        "        distances = (\n",
        "            # for each row/instance i of the flattened input\n",
        "            # after broadcasting\n",
        "            # zei^2 + ek^2 - 2(zei^Tek)\n",
        "            tf.reduce_sum(flattened_inputs ** 2, axis=1, keepdims=True)\n",
        "            + tf.reduce_sum(self.embeddings ** 2, axis=0)\n",
        "            - 2 * similarity\n",
        "        )\n",
        "\n",
        "        # Derive the indices for minimum distances.\n",
        "        encoding_indices = tf.argmin(distances, axis=1)\n",
        "        return encoding_indices\n"
      ],
      "execution_count": 33,
      "outputs": []
    },
    {
      "cell_type": "markdown",
      "metadata": {
        "id": "jgad9absuAkP"
      },
      "source": [
        "**$$$A note on straight-through estimation**:\n",
        "\n",
        "This line of code does the straight-through estimation part: `quantized = x +\n",
        "tf.stop_gradient(quantized - x)`. During backpropagation, `(quantized - x)` won't be\n",
        "included in the computation graph and th gradients obtaind for `quantized`\n",
        "will be copied for `inputs`. Thanks to [this video](https://youtu.be/VZFVUrYcig0?t=1393)\n",
        "for helping me understand this technique.\n",
        "\n",
        "According to the paper, this is the actual implementation to achieve \"Approximation of the gradient to the straight-through estimator and just copy gradients from decoder input $z_q(x)$ to encoder output $z_e(x)$. During the backwards pass the gradient $\\nabla_z L$ will push the encoder to change its output, which could alter the configuration in the next forward pass (during which  the nearest embedding $z_q(x)$ is passed to the decoder)"
      ]
    },
    {
      "cell_type": "code",
      "metadata": {
        "id": "Pzmy6aOC4DtB"
      },
      "source": [
        "test_latent_dim = 8\n",
        "vq_test = VectorQuantizer(4, test_latent_dim) # K=4, D = 8\n",
        "# (N, D)\n",
        "test_input = tf.random.normal(shape=(20, test_latent_dim))"
      ],
      "execution_count": 34,
      "outputs": []
    },
    {
      "cell_type": "code",
      "metadata": {
        "colab": {
          "base_uri": "https://localhost:8080/"
        },
        "id": "7ZVjhwMg4kQ9",
        "outputId": "75a1ac37-0c30-44dd-ca51-f54d810307f5"
      },
      "source": [
        "print(\"Latent Embedding Code Book: \", vq_test.embeddings)\n",
        "test_vq_idx = vq_test.get_code_indices(test_input) #(N, )\n",
        "print(\"Encoding Indices based on nearest neighbour L2-normalized distance: \", test_vq_idx)"
      ],
      "execution_count": 35,
      "outputs": [
        {
          "output_type": "stream",
          "name": "stdout",
          "text": [
            "Latent Embedding Code Book:  <tf.Variable 'embeddings_vqvae:0' shape=(8, 4) dtype=float32, numpy=\n",
            "array([[ 0.04576332,  0.03399111,  0.02135419,  0.01053362],\n",
            "       [-0.03086833,  0.03997787, -0.00030214,  0.01144395],\n",
            "       [ 0.00854765, -0.01888158, -0.00449674,  0.02431047],\n",
            "       [-0.00163154, -0.01437665, -0.04559574,  0.04667376],\n",
            "       [-0.01037705,  0.02478844, -0.01993825,  0.03374263],\n",
            "       [-0.0125134 , -0.02609142,  0.03245345,  0.02799121],\n",
            "       [ 0.03124099,  0.03935654,  0.04989013,  0.02431006],\n",
            "       [-0.02995073, -0.00410522, -0.02278177,  0.00249696]],\n",
            "      dtype=float32)>\n",
            "Encoding Indices based on nearest neighbour L2-normalized distance:  tf.Tensor([1 3 1 3 0 3 2 2 1 2 3 2 1 2 2 3 3 0 2 2], shape=(20,), dtype=int64)\n"
          ]
        }
      ]
    },
    {
      "cell_type": "code",
      "metadata": {
        "colab": {
          "base_uri": "https://localhost:8080/"
        },
        "id": "2lcFUApf6NrS",
        "outputId": "c95bd355-d67f-49f4-88d3-f3811dc07862"
      },
      "source": [
        "### Broadcasting Trick\n",
        "ze_square = tf.reduce_sum(test_input ** 2, axis=1, keepdims=True) #(N, 1)\n",
        "print(ze_square)\n",
        "e_square = tf.reduce_sum(vq_test.embeddings ** 2, axis=0) # (K, )\n",
        "print(e_square)\n",
        "# (N, 1), (K, 1) -> (N, K)\n",
        "print(ze_square + e_square)"
      ],
      "execution_count": 36,
      "outputs": [
        {
          "output_type": "stream",
          "name": "stdout",
          "text": [
            "tf.Tensor(\n",
            "[[ 4.740779 ]\n",
            " [11.075359 ]\n",
            " [ 4.9024277]\n",
            " [15.480468 ]\n",
            " [14.726372 ]\n",
            " [ 7.679924 ]\n",
            " [ 4.817663 ]\n",
            " [15.878815 ]\n",
            " [21.338882 ]\n",
            " [ 7.8447886]\n",
            " [ 9.645939 ]\n",
            " [ 7.715809 ]\n",
            " [13.3110485]\n",
            " [ 3.9496465]\n",
            " [ 8.534668 ]\n",
            " [10.280521 ]\n",
            " [11.659317 ]\n",
            " [ 8.374844 ]\n",
            " [ 6.9893975]\n",
            " [ 4.3013434]], shape=(20, 1), dtype=float32)\n",
            "tf.Tensor([0.00526017 0.00617785 0.00701408 0.00553065], shape=(4,), dtype=float32)\n",
            "tf.Tensor(\n",
            "[[ 4.746039   4.746957   4.747793   4.7463098]\n",
            " [11.08062   11.081537  11.082374  11.08089  ]\n",
            " [ 4.9076877  4.9086056  4.909442   4.9079585]\n",
            " [15.485728  15.486646  15.487482  15.485998 ]\n",
            " [14.731632  14.73255   14.733386  14.731902 ]\n",
            " [ 7.685184   7.686102   7.6869383  7.685455 ]\n",
            " [ 4.822923   4.823841   4.8246775  4.823194 ]\n",
            " [15.884075  15.884993  15.885829  15.884345 ]\n",
            " [21.344143  21.34506   21.345896  21.344414 ]\n",
            " [ 7.8500485  7.8509665  7.851803   7.8503194]\n",
            " [ 9.651199   9.652117   9.652953   9.651469 ]\n",
            " [ 7.721069   7.721987   7.722823   7.7213397]\n",
            " [13.316309  13.317226  13.318063  13.316579 ]\n",
            " [ 3.9549067  3.9558244  3.9566605  3.955177 ]\n",
            " [ 8.539928   8.540846   8.541682   8.540198 ]\n",
            " [10.285782  10.286699  10.287536  10.286052 ]\n",
            " [11.6645775 11.665495  11.666331  11.664847 ]\n",
            " [ 8.380104   8.3810215  8.381858   8.380374 ]\n",
            " [ 6.9946575  6.9955754  6.996412   6.9949284]\n",
            " [ 4.3066034  4.3075213  4.3083577  4.3068743]], shape=(20, 4), dtype=float32)\n"
          ]
        }
      ]
    },
    {
      "cell_type": "markdown",
      "metadata": {
        "id": "D55TzKD7uAkQ"
      },
      "source": [
        "## Encoder and decoder\n",
        "\n",
        "We will now implement the encoder and the decoder for the VQ-VAE. We will keep them small so\n",
        "that their capacity is a good fit for the MNIST dataset, which we will use to demonstrate\n",
        "the results. The definitions of the encoder and decoder come from\n",
        "[this example](https://keras.io/examples/generative/vae)."
      ]
    },
    {
      "cell_type": "code",
      "metadata": {
        "id": "ghOowFPVuAkQ"
      },
      "source": [
        "\n",
        "def get_encoder(latent_dim=16):\n",
        "    encoder_inputs = keras.Input(shape=(28, 28, 1))\n",
        "    x = layers.Conv2D(32, 3, activation=\"relu\", strides=2, padding=\"same\")(\n",
        "        encoder_inputs\n",
        "    )\n",
        "    x = layers.Conv2D(64, 3, activation=\"relu\", strides=2, padding=\"same\")(x)\n",
        "    encoder_outputs = layers.Conv2D(latent_dim, 1, padding=\"same\")(x)\n",
        "    return keras.Model(encoder_inputs, encoder_outputs, name=\"encoder\")\n",
        "\n",
        "\n",
        "def get_decoder(latent_dim=16):\n",
        "    latent_inputs = keras.Input(shape=get_encoder().output.shape[1:])\n",
        "    x = layers.Conv2DTranspose(64, 3, activation=\"relu\", strides=2, padding=\"same\")(\n",
        "        latent_inputs\n",
        "    )\n",
        "    x = layers.Conv2DTranspose(32, 3, activation=\"relu\", strides=2, padding=\"same\")(x)\n",
        "    decoder_outputs = layers.Conv2DTranspose(1, 3, padding=\"same\")(x)\n",
        "    return keras.Model(latent_inputs, decoder_outputs, name=\"decoder\")\n"
      ],
      "execution_count": 37,
      "outputs": []
    },
    {
      "cell_type": "markdown",
      "metadata": {
        "id": "q-YXg_8QuAkR"
      },
      "source": [
        "## Standalone VQ-VAE model"
      ]
    },
    {
      "cell_type": "code",
      "metadata": {
        "id": "3DpGe0i8uAkR",
        "colab": {
          "base_uri": "https://localhost:8080/"
        },
        "outputId": "4f048d7b-b0a2-4608-806e-2c72ba950e98"
      },
      "source": [
        "\n",
        "def get_vqvae(latent_dim=16, num_embeddings=64):\n",
        "    vq_layer = VectorQuantizer(num_embeddings, latent_dim, name=\"vector_quantizer\")\n",
        "    encoder = get_encoder(latent_dim)\n",
        "    decoder = get_decoder(latent_dim)\n",
        "    inputs = keras.Input(shape=(28, 28, 1))\n",
        "    encoder_outputs = encoder(inputs)\n",
        "    quantized_latents = vq_layer(encoder_outputs)\n",
        "    reconstructions = decoder(quantized_latents)\n",
        "    return keras.Model(inputs, reconstructions, name=\"vq_vae\")\n",
        "\n",
        "\n",
        "get_vqvae().summary()"
      ],
      "execution_count": 38,
      "outputs": [
        {
          "output_type": "stream",
          "name": "stdout",
          "text": [
            "Model: \"vq_vae\"\n",
            "_________________________________________________________________\n",
            " Layer (type)                Output Shape              Param #   \n",
            "=================================================================\n",
            " input_10 (InputLayer)       [(None, 28, 28, 1)]       0         \n",
            "                                                                 \n",
            " encoder (Functional)        (None, 7, 7, 16)          19856     \n",
            "                                                                 \n",
            " vector_quantizer (VectorQua  (None, 7, 7, 16)         1024      \n",
            " ntizer)                                                         \n",
            "                                                                 \n",
            " decoder (Functional)        (None, 28, 28, 1)         28033     \n",
            "                                                                 \n",
            "=================================================================\n",
            "Total params: 48,913\n",
            "Trainable params: 48,913\n",
            "Non-trainable params: 0\n",
            "_________________________________________________________________\n"
          ]
        }
      ]
    },
    {
      "cell_type": "markdown",
      "metadata": {
        "id": "69DuNl0vuAkR"
      },
      "source": [
        "Note that the output channels of the encoder should match the `latent_dim` for the vector\n",
        "quantizer."
      ]
    },
    {
      "cell_type": "markdown",
      "metadata": {
        "id": "IyQSupGuuAkR"
      },
      "source": [
        "## Wrapping up the training loop inside `VQVAETrainer`"
      ]
    },
    {
      "cell_type": "code",
      "metadata": {
        "id": "3vsSbZanuAkS"
      },
      "source": [
        "\n",
        "class VQVAETrainer(keras.models.Model):\n",
        "    def __init__(self, train_variance, latent_dim=32, num_embeddings=128, **kwargs):\n",
        "        super(VQVAETrainer, self).__init__(**kwargs)\n",
        "        self.train_variance = train_variance\n",
        "        self.latent_dim = latent_dim\n",
        "        self.num_embeddings = num_embeddings\n",
        "\n",
        "        self.vqvae = get_vqvae(self.latent_dim, self.num_embeddings)\n",
        "\n",
        "        self.total_loss_tracker = keras.metrics.Mean(name=\"total_loss\")\n",
        "        self.reconstruction_loss_tracker = keras.metrics.Mean(\n",
        "            name=\"reconstruction_loss\"\n",
        "        )\n",
        "        self.vq_loss_tracker = keras.metrics.Mean(name=\"vq_loss\")\n",
        "\n",
        "    @property\n",
        "    def metrics(self):\n",
        "        return [\n",
        "            self.total_loss_tracker,\n",
        "            self.reconstruction_loss_tracker,\n",
        "            self.vq_loss_tracker,\n",
        "        ]\n",
        "\n",
        "    def train_step(self, x):\n",
        "        with tf.GradientTape() as tape:\n",
        "            # Outputs from the VQ-VAE.\n",
        "            reconstructions = self.vqvae(x)\n",
        "\n",
        "            # Calculate the losses.\n",
        "            reconstruction_loss = (\n",
        "                tf.reduce_mean((x - reconstructions) ** 2) / self.train_variance\n",
        "            )\n",
        "            total_loss = reconstruction_loss + sum(self.vqvae.losses)\n",
        "\n",
        "        # Backpropagation.\n",
        "        grads = tape.gradient(total_loss, self.vqvae.trainable_variables)\n",
        "        self.optimizer.apply_gradients(zip(grads, self.vqvae.trainable_variables))\n",
        "\n",
        "        # Loss tracking.\n",
        "        self.total_loss_tracker.update_state(total_loss)\n",
        "        self.reconstruction_loss_tracker.update_state(reconstruction_loss)\n",
        "        self.vq_loss_tracker.update_state(sum(self.vqvae.losses))\n",
        "\n",
        "        # Log results.\n",
        "        return {\n",
        "            \"loss\": self.total_loss_tracker.result(),\n",
        "            \"reconstruction_loss\": self.reconstruction_loss_tracker.result(),\n",
        "            \"vqvae_loss\": self.vq_loss_tracker.result(),\n",
        "        }\n"
      ],
      "execution_count": 39,
      "outputs": []
    },
    {
      "cell_type": "markdown",
      "metadata": {
        "id": "WC2qHYgTuAkS"
      },
      "source": [
        "## Load and preprocess the MNIST dataset"
      ]
    },
    {
      "cell_type": "code",
      "metadata": {
        "id": "40ULtX-ruAkS"
      },
      "source": [
        "(x_train, _), (x_test, _) = keras.datasets.mnist.load_data()\n",
        "\n",
        "x_train = np.expand_dims(x_train, -1)\n",
        "x_test = np.expand_dims(x_test, -1)\n",
        "x_train_scaled = (x_train / 255.0) - 0.5\n",
        "x_test_scaled = (x_test / 255.0) - 0.5\n",
        "\n",
        "data_variance = np.var(x_train / 255.0)"
      ],
      "execution_count": 40,
      "outputs": []
    },
    {
      "cell_type": "markdown",
      "metadata": {
        "id": "EVX0X-u8uAkS"
      },
      "source": [
        "## Train the VQ-VAE model"
      ]
    },
    {
      "cell_type": "code",
      "metadata": {
        "id": "SzjB6sdDuAkT",
        "colab": {
          "base_uri": "https://localhost:8080/"
        },
        "outputId": "e79a4034-9b41-4cf8-ba1b-4124e542f594"
      },
      "source": [
        "vqvae_trainer = VQVAETrainer(data_variance, latent_dim=16, num_embeddings=128)\n",
        "vqvae_trainer.compile(optimizer=keras.optimizers.Adam())\n",
        "# vqvae_trainer.fit(x_train_scaled, epochs=30, batch_size=128)\n",
        "vqvae_trainer.fit(x_train_scaled, epochs=10, batch_size=128)"
      ],
      "execution_count": 79,
      "outputs": [
        {
          "output_type": "stream",
          "name": "stdout",
          "text": [
            "Epoch 1/10\n",
            "469/469 [==============================] - 4s 7ms/step - loss: 2.4064 - reconstruction_loss: 0.3453 - vqvae_loss: 1.7604\n",
            "Epoch 2/10\n",
            "469/469 [==============================] - 3s 7ms/step - loss: 2.0226 - reconstruction_loss: 0.1526 - vqvae_loss: 1.8563\n",
            "Epoch 3/10\n",
            "469/469 [==============================] - 3s 7ms/step - loss: 0.7724 - reconstruction_loss: 0.1175 - vqvae_loss: 0.6478\n",
            "Epoch 4/10\n",
            "469/469 [==============================] - 3s 7ms/step - loss: 0.4779 - reconstruction_loss: 0.0946 - vqvae_loss: 0.3793\n",
            "Epoch 5/10\n",
            "469/469 [==============================] - 3s 7ms/step - loss: 0.3674 - reconstruction_loss: 0.0820 - vqvae_loss: 0.2829\n",
            "Epoch 6/10\n",
            "469/469 [==============================] - 3s 7ms/step - loss: 0.3228 - reconstruction_loss: 0.0752 - vqvae_loss: 0.2461\n",
            "Epoch 7/10\n",
            "469/469 [==============================] - 3s 7ms/step - loss: 0.3056 - reconstruction_loss: 0.0705 - vqvae_loss: 0.2339\n",
            "Epoch 8/10\n",
            "469/469 [==============================] - 3s 7ms/step - loss: 0.2893 - reconstruction_loss: 0.0665 - vqvae_loss: 0.2215\n",
            "Epoch 9/10\n",
            "469/469 [==============================] - 3s 7ms/step - loss: 0.2752 - reconstruction_loss: 0.0632 - vqvae_loss: 0.2113\n",
            "Epoch 10/10\n",
            "469/469 [==============================] - 3s 7ms/step - loss: 0.2687 - reconstruction_loss: 0.0610 - vqvae_loss: 0.2073\n"
          ]
        },
        {
          "output_type": "execute_result",
          "data": {
            "text/plain": [
              "<keras.callbacks.History at 0x2e50c5974c0>"
            ]
          },
          "metadata": {},
          "execution_count": 79
        }
      ]
    },
    {
      "cell_type": "markdown",
      "metadata": {
        "id": "bcySPm1quAkT"
      },
      "source": [
        "## Reconstruction results on the test set"
      ]
    },
    {
      "cell_type": "code",
      "metadata": {
        "id": "Ode--j3uuAkT",
        "colab": {
          "base_uri": "https://localhost:8080/",
          "height": 1000
        },
        "outputId": "3d5d9d66-c832-4242-bbcb-5043a3cfab57"
      },
      "source": [
        "\n",
        "def show_subplot(original, reconstructed):\n",
        "    plt.subplot(1, 2, 1)\n",
        "    plt.imshow(original.squeeze() + 0.5)\n",
        "    plt.title(\"Original\")\n",
        "    plt.axis(\"off\")\n",
        "\n",
        "    plt.subplot(1, 2, 2)\n",
        "    plt.imshow(reconstructed.squeeze() + 0.5)\n",
        "    plt.title(\"Reconstructed\")\n",
        "    plt.axis(\"off\")\n",
        "\n",
        "    plt.show()\n",
        "\n",
        "\n",
        "trained_vqvae_model = vqvae_trainer.vqvae\n",
        "# Random picked 10 test images\n",
        "idx = np.random.choice(len(x_test_scaled), 10)\n",
        "test_images = x_test_scaled[idx]\n",
        "reconstructions_test = trained_vqvae_model.predict(test_images)\n",
        "\n",
        "print(type(reconstructions_test), reconstructions_test.shape)\n",
        "\n",
        "for test_image, reconstructed_image in zip(test_images, reconstructions_test):\n",
        "    show_subplot(test_image, reconstructed_image)"
      ],
      "execution_count": 80,
      "outputs": [
        {
          "output_type": "stream",
          "name": "stdout",
          "text": [
            "<class 'numpy.ndarray'> (10, 28, 28, 1)\n"
          ]
        },
        {
          "output_type": "display_data",
          "data": {
            "text/plain": [
              "<Figure size 432x288 with 2 Axes>"
            ],
            "image/png": "[encoded data removed]"
          },
          "metadata": {
            "needs_background": "light"
          }
        },
        {
          "output_type": "display_data",
          "data": {
            "text/plain": [
              "<Figure size 432x288 with 2 Axes>"
            ],
            "image/png": "[encoded data removed]"
          },
          "metadata": {
            "needs_background": "light"
          }
        },
        {
          "output_type": "display_data",
          "data": {
            "text/plain": [
              "<Figure size 432x288 with 2 Axes>"
            ],
            "image/png": "[encoded data removed]"
          },
          "metadata": {
            "needs_background": "light"
          }
        },
        {
          "output_type": "display_data",
          "data": {
            "text/plain": [
              "<Figure size 432x288 with 2 Axes>"
            ],
            "image/png": "[encoded data removed]"
          },
          "metadata": {
            "needs_background": "light"
          }
        },
        {
          "output_type": "display_data",
          "data": {
            "text/plain": [
              "<Figure size 432x288 with 2 Axes>"
            ],
            "image/png": "[encoded data removed]"
          },
          "metadata": {
            "needs_background": "light"
          }
        },
        {
          "output_type": "display_data",
          "data": {
            "text/plain": [
              "<Figure size 432x288 with 2 Axes>"
            ],
            "image/png": "[encoded data removed]"
          },
          "metadata": {
            "needs_background": "light"
          }
        },
        {
          "output_type": "display_data",
          "data": {
            "text/plain": [
              "<Figure size 432x288 with 2 Axes>"
            ],
            "image/png": "[encoded data removed]"
          },
          "metadata": {
            "needs_background": "light"
          }
        },
        {
          "output_type": "display_data",
          "data": {
            "text/plain": [
              "<Figure size 432x288 with 2 Axes>"
            ],
            "image/png": "[encoded data removed]"
          },
          "metadata": {
            "needs_background": "light"
          }
        },
        {
          "output_type": "display_data",
          "data": {
            "text/plain": [
              "<Figure size 432x288 with 2 Axes>"
            ],
            "image/png": "[encoded data removed]"
          },
          "metadata": {
            "needs_background": "light"
          }
        },
        {
          "output_type": "display_data",
          "data": {
            "text/plain": [
              "<Figure size 432x288 with 2 Axes>"
            ],
            "image/png": "[encoded data removed]"
          },
          "metadata": {
            "needs_background": "light"
          }
        }
      ]
    },
    {
      "cell_type": "markdown",
      "metadata": {
        "id": "if4i7gPluAkT"
      },
      "source": [
        "These results look decent. You are encouraged to play with different hyperparameters\n",
        "(especially the number of embeddings and the dimensions of the embeddings) and observe how\n",
        "they affect the results."
      ]
    },
    {
      "cell_type": "markdown",
      "metadata": {
        "id": "9g-4oPmluAkT"
      },
      "source": [
        "## Visualizing the discrete codes"
      ]
    },
    {
      "cell_type": "code",
      "metadata": {
        "colab": {
          "base_uri": "https://localhost:8080/"
        },
        "id": "HEuiSJOX9eRQ",
        "outputId": "4f46b34d-c666-4228-d12f-c0fb1bcb031e"
      },
      "source": [
        "test_images.squeeze().shape"
      ],
      "execution_count": 81,
      "outputs": [
        {
          "output_type": "execute_result",
          "data": {
            "text/plain": [
              "(10, 28, 28)"
            ]
          },
          "metadata": {},
          "execution_count": 81
        }
      ]
    },
    {
      "cell_type": "code",
      "metadata": {
        "id": "GkrLcoZ4uAkU",
        "colab": {
          "base_uri": "https://localhost:8080/",
          "height": 1000
        },
        "outputId": "05b1514c-fc8c-4716-8f18-b43f40078815"
      },
      "source": [
        "encoder = vqvae_trainer.vqvae.get_layer(\"encoder\")\n",
        "quantizer = vqvae_trainer.vqvae.get_layer(\"vector_quantizer\")\n",
        "\n",
        "encoded_outputs = encoder.predict(test_images)\n",
        "flat_enc_outputs = encoded_outputs.reshape(-1, encoded_outputs.shape[-1])\n",
        "#(BxH'xW', D) H'/W' indicate compressed output dim of encoder\n",
        "print(\"Encoded Latent Representation Shape: \", encoded_outputs.shape, flat_enc_outputs.shape)\n",
        "#(BxHxW, )\n",
        "codebook_indices = quantizer.get_code_indices(flat_enc_outputs)\n",
        "print(\"CB indices raw shape: \", codebook_indices.shape)\n",
        "# (B, H, W)\n",
        "codebook_indices = codebook_indices.numpy().reshape(encoded_outputs.shape[:-1])\n",
        "print(\"CB indices Inverse-Flatten shape: \", codebook_indices.shape)\n",
        "\n",
        "for i in range(len(test_images)):\n",
        "    plt.subplot(1, 2, 1)\n",
        "    plt.imshow(test_images[i].squeeze() + 0.5)\n",
        "    plt.title(\"Original\")\n",
        "    plt.axis(\"off\")\n",
        "\n",
        "    plt.subplot(1, 2, 2)\n",
        "    plt.imshow(codebook_indices[i])\n",
        "    plt.title(\"Code\")\n",
        "    plt.axis(\"off\")\n",
        "    plt.show()"
      ],
      "execution_count": 82,
      "outputs": [
        {
          "output_type": "stream",
          "name": "stdout",
          "text": [
            "Encoded Latent Representation Shape:  (10, 7, 7, 16) (490, 16)\n",
            "CB indices raw shape:  (490,)\n",
            "CB indices Inverse-Flatten shape:  (10, 7, 7)\n"
          ]
        },
        {
          "output_type": "display_data",
          "data": {
            "text/plain": [
              "<Figure size 432x288 with 2 Axes>"
            ],
            "image/png": "[encoded data removed]"
          },
          "metadata": {
            "needs_background": "light"
          }
        },
        {
          "output_type": "display_data",
          "data": {
            "text/plain": [
              "<Figure size 432x288 with 2 Axes>"
            ],
            "image/png": "[encoded data removed]"
          },
          "metadata": {
            "needs_background": "light"
          }
        },
        {
          "output_type": "display_data",
          "data": {
            "text/plain": [
              "<Figure size 432x288 with 2 Axes>"
            ],
            "image/png": "[encoded data removed]"
          },
          "metadata": {
            "needs_background": "light"
          }
        },
        {
          "output_type": "display_data",
          "data": {
            "text/plain": [
              "<Figure size 432x288 with 2 Axes>"
            ],
            "image/png": "[encoded data removed]"
          },
          "metadata": {
            "needs_background": "light"
          }
        },
        {
          "output_type": "display_data",
          "data": {
            "text/plain": [
              "<Figure size 432x288 with 2 Axes>"
            ],
            "image/png": "[encoded data removed]"
          },
          "metadata": {
            "needs_background": "light"
          }
        },
        {
          "output_type": "display_data",
          "data": {
            "text/plain": [
              "<Figure size 432x288 with 2 Axes>"
            ],
            "image/png": "[encoded data removed]"
          },
          "metadata": {
            "needs_background": "light"
          }
        },
        {
          "output_type": "display_data",
          "data": {
            "text/plain": [
              "<Figure size 432x288 with 2 Axes>"
            ],
            "image/png": "[encoded data removed]"
          },
          "metadata": {
            "needs_background": "light"
          }
        },
        {
          "output_type": "display_data",
          "data": {
            "text/plain": [
              "<Figure size 432x288 with 2 Axes>"
            ],
            "image/png": "[encoded data removed]"
          },
          "metadata": {
            "needs_background": "light"
          }
        },
        {
          "output_type": "display_data",
          "data": {
            "text/plain": [
              "<Figure size 432x288 with 2 Axes>"
            ],
            "image/png": "[encoded data removed]"
          },
          "metadata": {
            "needs_background": "light"
          }
        },
        {
          "output_type": "display_data",
          "data": {
            "text/plain": [
              "<Figure size 432x288 with 2 Axes>"
            ],
            "image/png": "[encoded data removed]"
          },
          "metadata": {
            "needs_background": "light"
          }
        }
      ]
    },
    {
      "cell_type": "markdown",
      "metadata": {
        "id": "brqKyl38uAkU"
      },
      "source": [
        "The figure above shows that the discrete codes have been able to capture some\n",
        "regularities from the dataset. Now, you might wonder, ***how do we use these codes to\n",
        "generate new samples?*** Specifically, how do we sample from this codebook to create\n",
        "novel examples? Since **these codes are discrete and we imposed a categorical distribution**\n",
        "on them, we cannot use them yet to generate anything meaningful. ***These codes were not\n",
        "updated during the training process as well(???)***. So, they need to be adjusted further so that\n",
        "we can use for them the subsequent image generation task. The authors use a PixelCNN to\n",
        "train these codes so that they can be used as powerful priors to generate novel examples.\n",
        "\n",
        "PixelCNN was proposed in\n",
        "[Conditional Image Generation with PixelCNN Decoders](https://arxiv.org/abs/1606.05328)\n",
        "by van der Oord et al. We will borrow code from\n",
        "[this example](https://keras.io/examples/generative/pixelcnn/)\n",
        "to develop a PixelCNN. It's an auto-regressive generative model where the current outputs\n",
        "are conditioned on the prior ones. In other words, a PixelCNN generates an image on a\n",
        "pixel-by-pixel basis."
      ]
    },
    {
      "cell_type": "markdown",
      "metadata": {
        "id": "a6Z27oJxuAkU"
      },
      "source": [
        "## PixelCNN hyperparameters"
      ]
    },
    {
      "cell_type": "code",
      "metadata": {
        "id": "bxWKtJrIuAkU",
        "colab": {
          "base_uri": "https://localhost:8080/"
        },
        "outputId": "114b7daa-a8da-4cd9-e8fc-79dfa5e14719"
      },
      "source": [
        "num_residual_blocks = 2\n",
        "num_pixelcnn_layers = 2\n",
        "# reduce BatchSize and LatentDim\n",
        "pixelcnn_input_shape = encoded_outputs.shape[1:-1]\n",
        "print(f\"Input shape of the PixelCNN: {pixelcnn_input_shape}\")"
      ],
      "execution_count": 83,
      "outputs": [
        {
          "output_type": "stream",
          "name": "stdout",
          "text": [
            "Input shape of the PixelCNN: (7, 7)\n"
          ]
        }
      ]
    },
    {
      "cell_type": "markdown",
      "metadata": {
        "id": "EczzxUR_uAkU"
      },
      "source": [
        "Don't worry about the input shape. It'll become clear in the following sections."
      ]
    },
    {
      "cell_type": "markdown",
      "metadata": {
        "id": "sfh9tobGuAkU"
      },
      "source": [
        "## PixelCNN model\n",
        "\n",
        "Majority of this comes from\n",
        "[this example](https://keras.io/examples/generative/pixelcnn/)."
      ]
    },
    {
      "cell_type": "code",
      "metadata": {
        "id": "mxTv9xu8IB0f"
      },
      "source": [
        "### PixelConv: Conv with masking\n",
        "class PixelConvLayer(layers.Layer):\n",
        "    def __init__(self, mask_type, **kwargs):\n",
        "        super(PixelConvLayer, self).__init__()\n",
        "        self.mask_type = mask_type\n",
        "        self.conv = layers.Conv2D(**kwargs)\n",
        "\n",
        "    def build(self, input_shape):\n",
        "        print(\"Build PixelConv ..., input shape: {}\".format(input_shape))\n",
        "        # input_shape (B, H, W, L/C/D)\n",
        "        # Build the conv2d layer to initialize kernel variables\n",
        "        self.conv.build(input_shape)\n",
        "        # Use the initialized kernel to create the mask\n",
        "        # kernel Shape: (kernel_H, kernel_W, input_channel, output_channel/filters)\n",
        "        kernel_shape = self.conv.kernel.get_shape()\n",
        "        self.mask = np.zeros(shape=kernel_shape)\n",
        "        #  To make sure the CNN can only use information about pixels above\n",
        "        self.mask[: kernel_shape[0] // 2, ...] = 1.0\n",
        "        # and to the left of the current pixel\n",
        "        self.mask[kernel_shape[0] // 2, : kernel_shape[1] // 2, ...] = 1.0\n",
        "        if self.mask_type == \"B\":\n",
        "            self.mask[kernel_shape[0] // 2, kernel_shape[1] // 2, ...] = 1.0\n",
        "\n",
        "    def call(self, inputs):\n",
        "        self.conv.kernel.assign(self.conv.kernel * self.mask)\n",
        "        return self.conv(inputs)"
      ],
      "execution_count": 84,
      "outputs": []
    },
    {
      "cell_type": "code",
      "metadata": {
        "colab": {
          "base_uri": "https://localhost:8080/"
        },
        "id": "TF4LV4oAIMxF",
        "outputId": "4ade3101-7018-4920-b3c2-504531ce5cd4"
      },
      "source": [
        "# DEV\n",
        "p_conv = PixelConvLayer(mask_type=\"A\", filters=128, kernel_size=7, activation=\"relu\", padding=\"same\")\n",
        "\n",
        "## Initialization...\n",
        "### 1. through build\n",
        "# p_conv.build(tf.TensorShape([None, 7, 7, 128]))\n",
        "### 2. through forward pass\n",
        "test_input = tf.random.normal(shape=(20, 7, 7, 128))\n",
        "print(test_input.shape)\n",
        "print(\"Pixel Conv Output Shape: \", p_conv(test_input).shape)\n"
      ],
      "execution_count": 85,
      "outputs": [
        {
          "output_type": "stream",
          "name": "stdout",
          "text": [
            "(20, 7, 7, 128)\n",
            "Build PixelConv ..., input shape: (20, 7, 7, 128)\n",
            "Pixel Conv Output Shape:  (20, 7, 7, 128)\n"
          ]
        }
      ]
    },
    {
      "cell_type": "code",
      "metadata": {
        "colab": {
          "base_uri": "https://localhost:8080/"
        },
        "id": "ZqLKnPwUKlK8",
        "outputId": "6085b928-90bd-463e-8282-e118d440b231"
      },
      "source": [
        "# kernel Shape: (kernel_H, kernel_W, input_channel, output_channel/filters)\n",
        "test_mask = np.zeros(shape=p_conv.conv.kernel.shape)\n",
        "print(test_mask.shape)\n",
        "test_mask[: test_mask.shape[0]//2, ...] = 1.\n",
        "test_mask[test_mask.shape[0]//2, : test_mask.shape[0]//2, ...] = 1.0\n"
      ],
      "execution_count": 86,
      "outputs": [
        {
          "output_type": "stream",
          "name": "stdout",
          "text": [
            "(7, 7, 128, 128)\n"
          ]
        }
      ]
    },
    {
      "cell_type": "code",
      "metadata": {
        "colab": {
          "base_uri": "https://localhost:8080/"
        },
        "id": "S8ZcFtYPRnrm",
        "outputId": "bf9ba068-86a8-480c-bd7f-cfa31acc8426"
      },
      "source": [
        "t_test_mask = tf.transpose(test_mask, perm=[2, 3, 0, 1])\n",
        "print(t_test_mask.shape)\n",
        "print(t_test_mask[0][0])\n",
        "print(t_test_mask[127][63])"
      ],
      "execution_count": 87,
      "outputs": [
        {
          "output_type": "stream",
          "name": "stdout",
          "text": [
            "(128, 128, 7, 7)\n",
            "tf.Tensor(\n",
            "[[1. 1. 1. 1. 1. 1. 1.]\n",
            " [1. 1. 1. 1. 1. 1. 1.]\n",
            " [1. 1. 1. 1. 1. 1. 1.]\n",
            " [1. 1. 1. 0. 0. 0. 0.]\n",
            " [0. 0. 0. 0. 0. 0. 0.]\n",
            " [0. 0. 0. 0. 0. 0. 0.]\n",
            " [0. 0. 0. 0. 0. 0. 0.]], shape=(7, 7), dtype=float64)\n",
            "tf.Tensor(\n",
            "[[1. 1. 1. 1. 1. 1. 1.]\n",
            " [1. 1. 1. 1. 1. 1. 1.]\n",
            " [1. 1. 1. 1. 1. 1. 1.]\n",
            " [1. 1. 1. 0. 0. 0. 0.]\n",
            " [0. 0. 0. 0. 0. 0. 0.]\n",
            " [0. 0. 0. 0. 0. 0. 0.]\n",
            " [0. 0. 0. 0. 0. 0. 0.]], shape=(7, 7), dtype=float64)\n"
          ]
        }
      ]
    },
    {
      "cell_type": "code",
      "metadata": {
        "colab": {
          "base_uri": "https://localhost:8080/"
        },
        "id": "rc3AoUWMWvVg",
        "outputId": "4c9a185a-39b0-41d5-e5e2-38b4c49436eb"
      },
      "source": [
        "## Dev: Uniform distribution\n",
        "a = test_mask[:, 0, 1, 0]\n",
        "print(a)\n",
        "tf.random.uniform(a.shape) # output random values from a uniform distribution of range(0, 1)"
      ],
      "execution_count": 88,
      "outputs": [
        {
          "output_type": "stream",
          "name": "stdout",
          "text": [
            "[1. 1. 1. 1. 0. 0. 0.]\n"
          ]
        },
        {
          "output_type": "execute_result",
          "data": {
            "text/plain": [
              "<tf.Tensor: shape=(7,), dtype=float32, numpy=\n",
              "array([0.9555751 , 0.12969291, 0.80409694, 0.6171354 , 0.24891043,\n",
              "       0.8053918 , 0.12683702], dtype=float32)>"
            ]
          },
          "metadata": {},
          "execution_count": 88
        }
      ]
    },
    {
      "cell_type": "code",
      "metadata": {
        "id": "v3GhgzZOuAkU",
        "colab": {
          "base_uri": "https://localhost:8080/"
        },
        "outputId": "9e7c97ef-59c7-4dc2-b7b3-5b79e9781d26"
      },
      "source": [
        "# The first layer is the PixelCNN layer. This layer simply\n",
        "# builds on the 2D convolutional layer, but includes masking.\n",
        "# class PixelConvLayer(layers.Layer):\n",
        "#     def __init__(self, mask_type, **kwargs):\n",
        "#         super(PixelConvLayer, self).__init__()\n",
        "#         self.mask_type = mask_type\n",
        "#         self.conv = layers.Conv2D(**kwargs)\n",
        "\n",
        "#     def build(self, input_shape):\n",
        "#         # input_shape (B, H, W, L/C/D)\n",
        "#         # Build the conv2d layer to initialize kernel variables\n",
        "#         self.conv.build(input_shape)\n",
        "#         # Use the initialized kernel to create the mask\n",
        "#         kernel_shape = self.conv.kernel.get_shape()\n",
        "#         self.mask = np.zeros(shape=kernel_shape)\n",
        "#         self.mask[: kernel_shape[0] // 2, ...] = 1.0\n",
        "#         self.mask[kernel_shape[0] // 2, : kernel_shape[1] // 2, ...] = 1.0\n",
        "#         if self.mask_type == \"B\":\n",
        "#             self.mask[kernel_shape[0] // 2, kernel_shape[1] // 2, ...] = 1.0\n",
        "\n",
        "#     def call(self, inputs):\n",
        "#         self.conv.kernel.assign(self.conv.kernel * self.mask)\n",
        "#         return self.conv(inputs)\n",
        "\n",
        "\n",
        "# Next, we build our residual block layer.\n",
        "# This is just a normal residual block, but based on the PixelConvLayer.\n",
        "class ResidualBlock(keras.layers.Layer):\n",
        "    def __init__(self, filters, **kwargs):\n",
        "        super(ResidualBlock, self).__init__(**kwargs)\n",
        "        self.conv1 = keras.layers.Conv2D(\n",
        "            filters=filters, kernel_size=1, activation=\"relu\"\n",
        "        )\n",
        "        self.pixel_conv = PixelConvLayer(\n",
        "            mask_type=\"B\",\n",
        "            filters=filters // 2,\n",
        "            kernel_size=3,\n",
        "            activation=\"relu\",\n",
        "            padding=\"same\",\n",
        "        )\n",
        "        self.conv2 = keras.layers.Conv2D(\n",
        "            filters=filters, kernel_size=1, activation=\"relu\"\n",
        "        )\n",
        "\n",
        "    def call(self, inputs):\n",
        "        x = self.conv1(inputs)\n",
        "        x = self.pixel_conv(x)\n",
        "        x = self.conv2(x)\n",
        "        return keras.layers.add([inputs, x])\n",
        "\n",
        "\n",
        "pixelcnn_inputs = keras.Input(shape=pixelcnn_input_shape, dtype=tf.int32)\n",
        "# (B, pixel_CNN_H, pixel_CNN_W, K)\n",
        "ohe = tf.one_hot(pixelcnn_inputs, vqvae_trainer.num_embeddings)\n",
        "x = PixelConvLayer(\n",
        "    mask_type=\"A\", filters=128, kernel_size=7, activation=\"relu\", padding=\"same\"\n",
        ")(ohe)\n",
        "\n",
        "for _ in range(num_residual_blocks):\n",
        "    x = ResidualBlock(filters=128)(x)\n",
        "\n",
        "for _ in range(num_pixelcnn_layers):\n",
        "    x = PixelConvLayer(\n",
        "        mask_type=\"B\",\n",
        "        filters=128,\n",
        "        kernel_size=1,\n",
        "        strides=1,\n",
        "        activation=\"relu\",\n",
        "        padding=\"valid\",\n",
        "    )(x)\n",
        "\n",
        "out = keras.layers.Conv2D(\n",
        "    filters=vqvae_trainer.num_embeddings, kernel_size=1, strides=1, padding=\"valid\"\n",
        ")(x)\n",
        "\n",
        "pixel_cnn = keras.Model(pixelcnn_inputs, out, name=\"pixel_cnn\")\n",
        "pixel_cnn.summary()"
      ],
      "execution_count": 89,
      "outputs": [
        {
          "output_type": "stream",
          "name": "stdout",
          "text": [
            "Build PixelConv ..., input shape: (None, 7, 7, 128)\n",
            "Build PixelConv ..., input shape: (None, 7, 7, 128)\n",
            "Build PixelConv ..., input shape: (None, 7, 7, 128)\n",
            "Build PixelConv ..., input shape: (None, 7, 7, 128)\n",
            "Build PixelConv ..., input shape: (None, 7, 7, 128)\n",
            "Model: \"pixel_cnn\"\n",
            "_________________________________________________________________\n",
            " Layer (type)                Output Shape              Param #   \n",
            "=================================================================\n",
            " input_35 (InputLayer)       [(None, 7, 7)]            0         \n",
            "                                                                 \n",
            " tf.one_hot (TFOpLambda)     (None, 7, 7, 128)         0         \n",
            "                                                                 \n",
            " pixel_conv_layer_1 (PixelCo  (None, 7, 7, 128)        802944    \n",
            " nvLayer)                                                        \n",
            "                                                                 \n",
            " residual_block (ResidualBlo  (None, 7, 7, 128)        98624     \n",
            " ck)                                                             \n",
            "                                                                 \n",
            " residual_block_1 (ResidualB  (None, 7, 7, 128)        98624     \n",
            " lock)                                                           \n",
            "                                                                 \n",
            " pixel_conv_layer_4 (PixelCo  (None, 7, 7, 128)        16512     \n",
            " nvLayer)                                                        \n",
            "                                                                 \n",
            " pixel_conv_layer_5 (PixelCo  (None, 7, 7, 128)        16512     \n",
            " nvLayer)                                                        \n",
            "                                                                 \n",
            " conv2d_175 (Conv2D)         (None, 7, 7, 128)         16512     \n",
            "                                                                 \n",
            "=================================================================\n",
            "Total params: 1,049,728\n",
            "Trainable params: 1,049,728\n",
            "Non-trainable params: 0\n",
            "_________________________________________________________________\n"
          ]
        }
      ]
    },
    {
      "cell_type": "markdown",
      "metadata": {
        "id": "qoZDzB26uAkV"
      },
      "source": [
        "## Prepare data to train the PixelCNN\n",
        "\n",
        "We will train the PixelCNN to learn a categorical distribution of the discrete codes.\n",
        "First, we will generate code indices using the encoder and vector quantizer we just\n",
        "trained. Our training objective will be to minimize the crossentropy loss between these\n",
        "indices and the PixelCNN outputs. Here, **the number of categories is equal to the number\n",
        "of embeddings present in our codebook (128 in our case)**. The PixelCNN model is\n",
        "trained to learn a distribution (as opposed to minimizing the L1/L2 loss), which is where\n",
        "it gets its generative capabilities from."
      ]
    },
    {
      "cell_type": "code",
      "metadata": {
        "id": "JeQwwOrluAkV",
        "colab": {
          "base_uri": "https://localhost:8080/"
        },
        "outputId": "055370fc-91a9-4519-a027-b4465412f71d"
      },
      "source": [
        "# Generate the codebook indices.\n",
        "encoded_outputs = encoder.predict(x_train_scaled)\n",
        "flat_enc_outputs = encoded_outputs.reshape(-1, encoded_outputs.shape[-1])\n",
        "codebook_indices = quantizer.get_code_indices(flat_enc_outputs) # each pixel matches a index mapping to an embedding in codebook\n",
        "\n",
        "codebook_indices = codebook_indices.numpy().reshape(encoded_outputs.shape[:-1])\n",
        "print(f\"Shape of the training data for PixelCNN: {codebook_indices.shape}\") # (B, pixel_CNN_H, pixel_CNN_W)\n",
        "print(\"Training data sample, idex of coodbook imbeddings: \", codebook_indices[0])"
      ],
      "execution_count": 91,
      "outputs": [
        {
          "output_type": "stream",
          "name": "stdout",
          "text": [
            "Shape of the training data for PixelCNN: (60000, 7, 7)\n",
            "Training data sample, idex of coodbook imbeddings:  [[ 66  66  66  66  66  52  66]\n",
            " [ 66  58  40 126  50  83  66]\n",
            " [ 66  33  23  14  66  66  66]\n",
            " [ 66  66  33  37  49  66  66]\n",
            " [ 66  66  73  85  38  66  66]\n",
            " [ 73  40  38  82  66  66  66]\n",
            " [ 66  33  66  66  66  66  66]]\n"
          ]
        }
      ]
    },
    {
      "cell_type": "markdown",
      "metadata": {
        "id": "_-yN1JqxuAkV"
      },
      "source": [
        "## PixelCNN training"
      ]
    },
    {
      "cell_type": "code",
      "metadata": {
        "id": "dsO2a9DquAkV",
        "colab": {
          "base_uri": "https://localhost:8080/"
        },
        "outputId": "f7cf7e4b-fdb7-4f5f-a2c8-d5a837f3a5e9"
      },
      "source": [
        "pixel_cnn.compile(\n",
        "    optimizer=keras.optimizers.Adam(3e-4),\n",
        "    loss=keras.losses.SparseCategoricalCrossentropy(from_logits=True),\n",
        "    metrics=[\"accuracy\"],\n",
        ")\n",
        "pixel_cnn.fit(\n",
        "    x=codebook_indices,\n",
        "    y=codebook_indices,\n",
        "    batch_size=128,\n",
        "    epochs=10,\n",
        "    validation_split=0.1,\n",
        ")"
      ],
      "execution_count": 92,
      "outputs": [
        {
          "output_type": "stream",
          "name": "stdout",
          "text": [
            "Epoch 1/10\n",
            "422/422 [==============================] - 5s 9ms/step - loss: 1.6314 - accuracy: 0.6505 - val_loss: 1.1101 - val_accuracy: 0.6836\n",
            "Epoch 2/10\n",
            "422/422 [==============================] - 3s 8ms/step - loss: 1.0391 - accuracy: 0.6956 - val_loss: 0.9996 - val_accuracy: 0.7029\n",
            "Epoch 3/10\n",
            "422/422 [==============================] - 3s 7ms/step - loss: 0.9710 - accuracy: 0.7087 - val_loss: 0.9598 - val_accuracy: 0.7106\n",
            "Epoch 4/10\n",
            "422/422 [==============================] - 3s 8ms/step - loss: 0.9374 - accuracy: 0.7154 - val_loss: 0.9395 - val_accuracy: 0.7142\n",
            "Epoch 5/10\n",
            "422/422 [==============================] - 3s 8ms/step - loss: 0.9157 - accuracy: 0.7199 - val_loss: 0.9208 - val_accuracy: 0.7176\n",
            "Epoch 6/10\n",
            "422/422 [==============================] - 3s 7ms/step - loss: 0.9008 - accuracy: 0.7230 - val_loss: 0.9093 - val_accuracy: 0.7200\n",
            "Epoch 7/10\n",
            "422/422 [==============================] - 3s 8ms/step - loss: 0.8879 - accuracy: 0.7259 - val_loss: 0.9027 - val_accuracy: 0.7216\n",
            "Epoch 8/10\n",
            "422/422 [==============================] - 3s 8ms/step - loss: 0.8786 - accuracy: 0.7278 - val_loss: 0.8972 - val_accuracy: 0.7227\n",
            "Epoch 9/10\n",
            "422/422 [==============================] - 3s 8ms/step - loss: 0.8710 - accuracy: 0.7297 - val_loss: 0.8925 - val_accuracy: 0.7238\n",
            "Epoch 10/10\n",
            "422/422 [==============================] - 3s 8ms/step - loss: 0.8640 - accuracy: 0.7312 - val_loss: 0.8933 - val_accuracy: 0.7227\n"
          ]
        },
        {
          "output_type": "execute_result",
          "data": {
            "text/plain": [
              "<keras.callbacks.History at 0x2e51be2deb0>"
            ]
          },
          "metadata": {},
          "execution_count": 92
        }
      ]
    },
    {
      "cell_type": "markdown",
      "metadata": {
        "id": "aQp_VYGzuAkV"
      },
      "source": [
        "We can improve these scores with more training and hyperparameter tuning."
      ]
    },
    {
      "cell_type": "markdown",
      "metadata": {
        "id": "-Z6pvrvuuAkV"
      },
      "source": [
        "## Codebook sampling\n",
        "\n",
        "Now that our PixelCNN is trained, we can sample distinct codes from its outputs and pass\n",
        "them to our decoder to generate novel images."
      ]
    },
    {
      "cell_type": "code",
      "metadata": {
        "id": "rYA-MfAUuAkV"
      },
      "source": [
        "# Create a mini sampler model.\n",
        "inputs = layers.Input(shape=pixel_cnn.input_shape[1:])\n",
        "x = pixel_cnn(inputs, training=False)\n",
        "# logits: (B, pixelCNN_H/encoded_output_H of VQ-VQE, pixel_CNN_W, num_codebook_embeddings/K)\n",
        "dist = tfp.distributions.Categorical(logits=x)\n",
        "sampled = dist.sample()\n",
        "sampler = keras.Model(inputs, sampled)"
      ],
      "execution_count": 93,
      "outputs": []
    },
    {
      "cell_type": "code",
      "metadata": {
        "colab": {
          "base_uri": "https://localhost:8080/"
        },
        "id": "STInN0VnGwV4",
        "outputId": "4bbfd98f-f0f6-4e06-b0b8-993255d2e864"
      },
      "source": [
        "# Debug\n",
        "print(x.shape)\n",
        "# sampler.summary()"
      ],
      "execution_count": 94,
      "outputs": [
        {
          "output_type": "stream",
          "name": "stdout",
          "text": [
            "(None, 7, 7, 128)\n"
          ]
        }
      ]
    },
    {
      "cell_type": "markdown",
      "metadata": {
        "id": "X1i8JUw8uAkW"
      },
      "source": [
        "We now construct a prior to generate images. Here, we will generate 10 images."
      ]
    },
    {
      "cell_type": "code",
      "metadata": {
        "id": "RxH9P7QYuAkW",
        "colab": {
          "base_uri": "https://localhost:8080/"
        },
        "outputId": "f276c628-07e8-467f-ec06-5b2d5ce3911b"
      },
      "source": [
        "# Create an empty array of priors/code_book indices array for each laten space image (L_H, L_W).\n",
        "batch = 10\n",
        "priors = np.zeros(shape=(batch,) + (pixel_cnn.input_shape)[1:])\n",
        "batch, rows, cols = priors.shape\n",
        "\n",
        "# Iterate over the priors because generation has to be done sequentially pixel by pixel.\n",
        "for row in range(rows):\n",
        "    for col in range(cols):\n",
        "        # Feed the whole array and retrieving the pixel value probabilities for the next\n",
        "        # pixel.\n",
        "        probs = sampler.predict(priors)\n",
        "        # Use the probabilities to pick pixel values and append the values to the priors.\n",
        "        priors[:, row, col] = probs[:, row, col]\n",
        "\n",
        "print(f\"Prior shape: {priors.shape}\")"
      ],
      "execution_count": 189,
      "outputs": [
        {
          "output_type": "stream",
          "name": "stdout",
          "text": [
            "Prior shape: (10, 7, 7)\n"
          ]
        }
      ]
    },
    {
      "cell_type": "markdown",
      "metadata": {
        "id": "-ykgKM7NuAkW"
      },
      "source": [
        "We can now use our decoder to generate the images."
      ]
    },
    {
      "cell_type": "code",
      "metadata": {
        "id": "Hfv4huWHuAkW",
        "colab": {
          "base_uri": "https://localhost:8080/",
          "height": 1000
        },
        "outputId": "e1e974f3-ddeb-4981-e966-e8dc21ea6f40"
      },
      "source": [
        "# Perform an embedding lookup. \n",
        "## retrieve zq accordingly based on cookbook embedding indices, and input to the decoder\n",
        "pretrained_embeddings = quantizer.embeddings\n",
        "# (B, eH, eW, K/num codebook embeddings)\n",
        "priors_ohe = tf.one_hot(priors.astype(\"int32\"), vqvae_trainer.num_embeddings).numpy()\n",
        "print(priors_ohe.shape)\n",
        "# eq: (B, eH, eW, L/enc_dim, codebook_dim, dec_dim) (for gradient 'straight-through')\n",
        "quantized = tf.matmul(\n",
        "    priors_ohe.astype(\"float32\"), pretrained_embeddings, transpose_b=True\n",
        ")\n",
        "print(quantized.shape)\n",
        "quantized = tf.reshape(quantized, (-1, *(encoded_outputs.shape[1:])))\n",
        "print(quantized.shape)\n",
        "\n",
        "# Generate novel images.\n",
        "decoder = vqvae_trainer.vqvae.get_layer(\"decoder\")\n",
        "generated_samples = decoder.predict(quantized)\n",
        "\n",
        "for i in range(batch):\n",
        "    plt.subplot(1, 2, 1)\n",
        "    plt.imshow(priors[i])\n",
        "    plt.title(\"Code\")\n",
        "    plt.axis(\"off\")\n",
        "\n",
        "    plt.subplot(1, 2, 2)\n",
        "    plt.imshow(generated_samples[i].squeeze() + 0.5)\n",
        "    plt.title(\"Generated Sample\")\n",
        "    plt.axis(\"off\")\n",
        "    plt.show()"
      ],
      "execution_count": 193,
      "outputs": [
        {
          "output_type": "stream",
          "name": "stdout",
          "text": [
            "(10, 7, 7, 128)\n",
            "(10, 7, 7, 16)\n",
            "(10, 7, 7, 16)\n"
          ]
        },
        {
          "output_type": "display_data",
          "data": {
            "text/plain": [
              "<Figure size 432x288 with 2 Axes>"
            ],
            "image/png": "[encoded data removed]"
          },
          "metadata": {
            "needs_background": "light"
          }
        },
        {
          "output_type": "display_data",
          "data": {
            "text/plain": [
              "<Figure size 432x288 with 2 Axes>"
            ],
            "image/png": "[encoded data removed]"
          },
          "metadata": {
            "needs_background": "light"
          }
        },
        {
          "output_type": "display_data",
          "data": {
            "text/plain": [
              "<Figure size 432x288 with 2 Axes>"
            ],
            "image/png": "[encoded data removed]"
          },
          "metadata": {
            "needs_background": "light"
          }
        },
        {
          "output_type": "display_data",
          "data": {
            "text/plain": [
              "<Figure size 432x288 with 2 Axes>"
            ],
            "image/png": "[encoded data removed]"
          },
          "metadata": {
            "needs_background": "light"
          }
        },
        {
          "output_type": "display_data",
          "data": {
            "text/plain": [
              "<Figure size 432x288 with 2 Axes>"
            ],
            "image/png": "[encoded data removed]"
          },
          "metadata": {
            "needs_background": "light"
          }
        },
        {
          "output_type": "display_data",
          "data": {
            "text/plain": [
              "<Figure size 432x288 with 2 Axes>"
            ],
            "image/png": "[encoded data removed]"
          },
          "metadata": {
            "needs_background": "light"
          }
        },
        {
          "output_type": "display_data",
          "data": {
            "text/plain": [
              "<Figure size 432x288 with 2 Axes>"
            ],
            "image/png": "[encoded data removed]"
          },
          "metadata": {
            "needs_background": "light"
          }
        },
        {
          "output_type": "display_data",
          "data": {
            "text/plain": [
              "<Figure size 432x288 with 2 Axes>"
            ],
            "image/png": "[encoded data removed]"
          },
          "metadata": {
            "needs_background": "light"
          }
        },
        {
          "output_type": "display_data",
          "data": {
            "text/plain": [
              "<Figure size 432x288 with 2 Axes>"
            ],
            "image/png": "[encoded data removed]"
          },
          "metadata": {
            "needs_background": "light"
          }
        },
        {
          "output_type": "display_data",
          "data": {
            "text/plain": [
              "<Figure size 432x288 with 2 Axes>"
            ],
            "image/png": "[encoded data removed]"
          },
          "metadata": {
            "needs_background": "light"
          }
        }
      ]
    },
    {
      "cell_type": "markdown",
      "metadata": {
        "id": "zUG2vFTVuAkW"
      },
      "source": [
        "We can enhance the quality of these generated samples by tweaking the PixelCNN."
      ]
    },
    {
      "cell_type": "markdown",
      "metadata": {
        "id": "9xecL0KDuAkW"
      },
      "source": [
        "## Additional notes\n",
        "\n",
        "* After the VQ-VAE paper was initially released, the authors developed an exponential\n",
        "moving averaging scheme to update the embeddings inside the quantizer. If you're\n",
        "interested you can check out\n",
        "[this snippet](https://github.com/deepmind/sonnet/blob/master/sonnet/python/modules/nets/vqvae.py#L124).\n",
        "* To further enhance the quality of the generated samples,\n",
        "[VQ-VAE-2](https://arxiv.org/abs/1906.00446) was proposed that follows a cascaded\n",
        "approach to learn the codebook and to generate the images."
      ]
    },
    {
      "cell_type": "markdown",
      "metadata": {
        "id": "V6n5yXGvqL3m"
      },
      "source": [
        "### PixelCNN with Conditional hidden input"
      ]
    },
    {
      "cell_type": "code",
      "metadata": {
        "id": "7Mch21AqqSwR"
      },
      "source": [
        "### Using TFDP library\n",
        "import tensorflow_datasets as tfds\n"
      ],
      "execution_count": 16,
      "outputs": []
    },
    {
      "cell_type": "code",
      "metadata": {
        "id": "UhMa-BKEqUwY"
      },
      "source": [
        "# Load MNIST from tensorflow_datasets\n",
        "data = tfds.load('mnist')\n",
        "train_data, test_data = data['train'], data['test']\n"
      ],
      "execution_count": 17,
      "outputs": []
    },
    {
      "cell_type": "code",
      "metadata": {
        "colab": {
          "base_uri": "https://localhost:8080/",
          "height": 486
        },
        "id": "vfJmEmRJYMxo",
        "outputId": "f5eaf6ca-3ea5-442e-afcb-704044fada15"
      },
      "source": [
        "for data in train_data.take(3):\n",
        "  # Image with integer from [0, 255)]\n",
        "  print(data['image'].shape, data['label'].shape, data['label'])\n",
        "  fig = plt.figure(figsize=(2, 2))\n",
        "  plt.subplot(1, 1, 1)\n",
        "  plt.imshow(data['image'].numpy().squeeze())\n",
        "  plt.title(data['label'].numpy())\n",
        "  plt.axis(\"off\")\n",
        "\n",
        "  plt.show()\n",
        "  # print(data['image'])"
      ],
      "execution_count": 65,
      "outputs": [
        {
          "output_type": "stream",
          "name": "stdout",
          "text": [
            "(28, 28, 1) () tf.Tensor(4, shape=(), dtype=int64)\n"
          ]
        },
        {
          "output_type": "display_data",
          "data": {
            "text/plain": [
              "<Figure size 144x144 with 1 Axes>"
            ],
            "image/png": "[encoded data removed]"
          },
          "metadata": {
            "needs_background": "light"
          }
        },
        {
          "output_type": "stream",
          "name": "stdout",
          "text": [
            "(28, 28, 1) () tf.Tensor(1, shape=(), dtype=int64)\n"
          ]
        },
        {
          "output_type": "display_data",
          "data": {
            "text/plain": [
              "<Figure size 144x144 with 1 Axes>"
            ],
            "image/png": "[encoded data removed]"
          },
          "metadata": {
            "needs_background": "light"
          }
        },
        {
          "output_type": "stream",
          "name": "stdout",
          "text": [
            "(28, 28, 1) () tf.Tensor(0, shape=(), dtype=int64)\n"
          ]
        },
        {
          "output_type": "display_data",
          "data": {
            "text/plain": [
              "<Figure size 144x144 with 1 Axes>"
            ],
            "image/png": "[encoded data removed]"
          },
          "metadata": {
            "needs_background": "light"
          }
        }
      ]
    },
    {
      "cell_type": "markdown",
      "metadata": {
        "id": "vl1dIZv2Zshi"
      },
      "source": [
        "#### Model Def"
      ]
    },
    {
      "cell_type": "code",
      "metadata": {
        "id": "rAr1TdOuYOZP"
      },
      "source": [
        "image_shape = (28, 28, 1)\n",
        "# Define a Pixel CNN network\n",
        "dist = tfp.distributions.PixelCNN(\n",
        "    image_shape=image_shape,\n",
        "    num_resnet=1,\n",
        "    num_hierarchies=1,\n",
        "    num_filters=16,\n",
        "    num_logistic_mix=5,\n",
        "    dropout_p=.3,\n",
        ")\n",
        "\n",
        "# Define the model input\n",
        "image_input = layers.Input(shape=image_shape)\n",
        "\n",
        "# Define the log likelihood for the loss fn\n",
        "log_prob = dist.log_prob(image_input)\n",
        "\n",
        "# Define the model\n",
        "## Input: (B, H, W, 1)\n",
        "## Output\n",
        "model = keras.Model(inputs=image_input, outputs=log_prob)"
      ],
      "execution_count": 20,
      "outputs": []
    },
    {
      "cell_type": "code",
      "metadata": {
        "colab": {
          "base_uri": "https://localhost:8080/"
        },
        "id": "29m-Sj4waYSh",
        "outputId": "b56dd526-aa8b-4521-a312-e3ac0ef9631c"
      },
      "source": [
        "test_input = tf.zeros(shape=(3, 28, 28, 1))\n",
        "print(test_input.shape)\n",
        "model(test_input)"
      ],
      "execution_count": 21,
      "outputs": [
        {
          "output_type": "stream",
          "name": "stdout",
          "text": [
            "(3, 28, 28, 1)\n"
          ]
        },
        {
          "output_type": "execute_result",
          "data": {
            "text/plain": [
              "<tf.Tensor: shape=(3,), dtype=float32, numpy=array([-1197.5366, -1197.5366, -1197.5366], dtype=float32)>"
            ]
          },
          "metadata": {},
          "execution_count": 21
        }
      ]
    },
    {
      "cell_type": "code",
      "metadata": {
        "colab": {
          "base_uri": "https://localhost:8080/",
          "height": 345
        },
        "id": "grNgChmHczqN",
        "outputId": "41dd9e73-dfa9-4ed1-bc35-8fbe90602584"
      },
      "source": [
        "samples = dist.sample(5)\n",
        "print(samples.shape)\n",
        "print(samples[0])"
      ],
      "execution_count": null,
      "outputs": [
        {
          "output_type": "error",
          "ename": "KeyboardInterrupt",
          "evalue": "ignored",
          "traceback": [
            "\u001b[0;31m---------------------------------------------------------------------------\u001b[0m",
            "\u001b[0;31mKeyboardInterrupt\u001b[0m                         Traceback (most recent call last)",
            "\u001b[0;32m<ipython-input-18-a112a52c1a56>\u001b[0m in \u001b[0;36m<module>\u001b[0;34m()\u001b[0m\n\u001b[0;32m----> 1\u001b[0;31m \u001b[0msamples\u001b[0m \u001b[0;34m=\u001b[0m \u001b[0mdist\u001b[0m\u001b[0;34m.\u001b[0m\u001b[0msample\u001b[0m\u001b[0;34m(\u001b[0m\u001b[0;36m5\u001b[0m\u001b[0;34m)\u001b[0m\u001b[0;34m\u001b[0m\u001b[0;34m\u001b[0m\u001b[0m\n\u001b[0m\u001b[1;32m      2\u001b[0m \u001b[0mprint\u001b[0m\u001b[0;34m(\u001b[0m\u001b[0msamples\u001b[0m\u001b[0;34m.\u001b[0m\u001b[0mshape\u001b[0m\u001b[0;34m)\u001b[0m\u001b[0;34m\u001b[0m\u001b[0;34m\u001b[0m\u001b[0m\n\u001b[1;32m      3\u001b[0m \u001b[0mprint\u001b[0m\u001b[0;34m(\u001b[0m\u001b[0msamples\u001b[0m\u001b[0;34m[\u001b[0m\u001b[0;36m0\u001b[0m\u001b[0;34m]\u001b[0m\u001b[0;34m)\u001b[0m\u001b[0;34m\u001b[0m\u001b[0;34m\u001b[0m\u001b[0m\n",
            "\u001b[0;32m/usr/local/lib/python3.7/dist-packages/tensorflow_probability/python/distributions/distribution.py\u001b[0m in \u001b[0;36msample\u001b[0;34m(self, sample_shape, seed, name, **kwargs)\u001b[0m\n\u001b[1;32m   1231\u001b[0m     \"\"\"\n\u001b[1;32m   1232\u001b[0m     \u001b[0;32mwith\u001b[0m \u001b[0mself\u001b[0m\u001b[0;34m.\u001b[0m\u001b[0m_name_and_control_scope\u001b[0m\u001b[0;34m(\u001b[0m\u001b[0mname\u001b[0m\u001b[0;34m)\u001b[0m\u001b[0;34m:\u001b[0m\u001b[0;34m\u001b[0m\u001b[0;34m\u001b[0m\u001b[0m\n\u001b[0;32m-> 1233\u001b[0;31m       \u001b[0;32mreturn\u001b[0m \u001b[0mself\u001b[0m\u001b[0;34m.\u001b[0m\u001b[0m_call_sample_n\u001b[0m\u001b[0;34m(\u001b[0m\u001b[0msample_shape\u001b[0m\u001b[0;34m,\u001b[0m \u001b[0mseed\u001b[0m\u001b[0;34m,\u001b[0m \u001b[0;34m**\u001b[0m\u001b[0mkwargs\u001b[0m\u001b[0;34m)\u001b[0m\u001b[0;34m\u001b[0m\u001b[0;34m\u001b[0m\u001b[0m\n\u001b[0m\u001b[1;32m   1234\u001b[0m \u001b[0;34m\u001b[0m\u001b[0m\n\u001b[1;32m   1235\u001b[0m   \u001b[0;32mdef\u001b[0m \u001b[0m_call_sample_and_log_prob\u001b[0m\u001b[0;34m(\u001b[0m\u001b[0mself\u001b[0m\u001b[0;34m,\u001b[0m \u001b[0msample_shape\u001b[0m\u001b[0;34m,\u001b[0m \u001b[0mseed\u001b[0m\u001b[0;34m,\u001b[0m \u001b[0;34m**\u001b[0m\u001b[0mkwargs\u001b[0m\u001b[0;34m)\u001b[0m\u001b[0;34m:\u001b[0m\u001b[0;34m\u001b[0m\u001b[0;34m\u001b[0m\u001b[0m\n",
            "\u001b[0;32m/usr/local/lib/python3.7/dist-packages/tensorflow_probability/python/distributions/distribution.py\u001b[0m in \u001b[0;36m_call_sample_n\u001b[0;34m(self, sample_shape, seed, **kwargs)\u001b[0m\n\u001b[1;32m   1208\u001b[0m         sample_shape, 'sample_shape')\n\u001b[1;32m   1209\u001b[0m     samples = self._sample_n(\n\u001b[0;32m-> 1210\u001b[0;31m         n, seed=seed() if callable(seed) else seed, **kwargs)\n\u001b[0m\u001b[1;32m   1211\u001b[0m     \u001b[0mbatch_event_shape\u001b[0m \u001b[0;34m=\u001b[0m \u001b[0mps\u001b[0m\u001b[0;34m.\u001b[0m\u001b[0mshape\u001b[0m\u001b[0;34m(\u001b[0m\u001b[0msamples\u001b[0m\u001b[0;34m)\u001b[0m\u001b[0;34m[\u001b[0m\u001b[0;36m1\u001b[0m\u001b[0;34m:\u001b[0m\u001b[0;34m]\u001b[0m\u001b[0;34m\u001b[0m\u001b[0;34m\u001b[0m\u001b[0m\n\u001b[1;32m   1212\u001b[0m     \u001b[0mfinal_shape\u001b[0m \u001b[0;34m=\u001b[0m \u001b[0mps\u001b[0m\u001b[0;34m.\u001b[0m\u001b[0mconcat\u001b[0m\u001b[0;34m(\u001b[0m\u001b[0;34m[\u001b[0m\u001b[0msample_shape\u001b[0m\u001b[0;34m,\u001b[0m \u001b[0mbatch_event_shape\u001b[0m\u001b[0;34m]\u001b[0m\u001b[0;34m,\u001b[0m \u001b[0;36m0\u001b[0m\u001b[0;34m)\u001b[0m\u001b[0;34m\u001b[0m\u001b[0;34m\u001b[0m\u001b[0m\n",
            "\u001b[0;32m/usr/local/lib/python3.7/dist-packages/tensorflow_probability/python/distributions/pixel_cnn.py\u001b[0m in \u001b[0;36m_sample_n\u001b[0;34m(self, n, seed, conditional_input, training)\u001b[0m\n\u001b[1;32m    552\u001b[0m     \u001b[0minit_vars\u001b[0m \u001b[0;34m=\u001b[0m \u001b[0;34m(\u001b[0m\u001b[0mindex0\u001b[0m\u001b[0;34m,\u001b[0m \u001b[0msamples_0\u001b[0m\u001b[0;34m)\u001b[0m\u001b[0;34m\u001b[0m\u001b[0;34m\u001b[0m\u001b[0m\n\u001b[1;32m    553\u001b[0m     _, samples = tf.while_loop(loop_cond, loop_body, init_vars,\n\u001b[0;32m--> 554\u001b[0;31m                                parallel_iterations=1)\n\u001b[0m\u001b[1;32m    555\u001b[0m \u001b[0;34m\u001b[0m\u001b[0m\n\u001b[1;32m    556\u001b[0m     transformed_samples = (self._low +\n",
            "\u001b[0;32m/usr/local/lib/python3.7/dist-packages/tensorflow/python/util/deprecation.py\u001b[0m in \u001b[0;36mnew_func\u001b[0;34m(*args, **kwargs)\u001b[0m\n\u001b[1;32m    618\u001b[0m                   \u001b[0mfunc\u001b[0m\u001b[0;34m.\u001b[0m\u001b[0m__module__\u001b[0m\u001b[0;34m,\u001b[0m \u001b[0marg_name\u001b[0m\u001b[0;34m,\u001b[0m \u001b[0marg_value\u001b[0m\u001b[0;34m,\u001b[0m \u001b[0;34m'in a future version'\u001b[0m\u001b[0;34m\u001b[0m\u001b[0;34m\u001b[0m\u001b[0m\n\u001b[1;32m    619\u001b[0m                   if date is None else ('after %s' % date), instructions)\n\u001b[0;32m--> 620\u001b[0;31m       \u001b[0;32mreturn\u001b[0m \u001b[0mfunc\u001b[0m\u001b[0;34m(\u001b[0m\u001b[0;34m*\u001b[0m\u001b[0margs\u001b[0m\u001b[0;34m,\u001b[0m \u001b[0;34m**\u001b[0m\u001b[0mkwargs\u001b[0m\u001b[0;34m)\u001b[0m\u001b[0;34m\u001b[0m\u001b[0;34m\u001b[0m\u001b[0m\n\u001b[0m\u001b[1;32m    621\u001b[0m \u001b[0;34m\u001b[0m\u001b[0m\n\u001b[1;32m    622\u001b[0m     doc = _add_deprecated_arg_value_notice_to_docstring(\n",
            "\u001b[0;32m/usr/local/lib/python3.7/dist-packages/tensorflow/python/ops/control_flow_ops.py\u001b[0m in \u001b[0;36mwhile_loop_v2\u001b[0;34m(cond, body, loop_vars, shape_invariants, parallel_iterations, back_prop, swap_memory, maximum_iterations, name)\u001b[0m\n\u001b[1;32m   2556\u001b[0m       \u001b[0mname\u001b[0m\u001b[0;34m=\u001b[0m\u001b[0mname\u001b[0m\u001b[0;34m,\u001b[0m\u001b[0;34m\u001b[0m\u001b[0;34m\u001b[0m\u001b[0m\n\u001b[1;32m   2557\u001b[0m       \u001b[0mmaximum_iterations\u001b[0m\u001b[0;34m=\u001b[0m\u001b[0mmaximum_iterations\u001b[0m\u001b[0;34m,\u001b[0m\u001b[0;34m\u001b[0m\u001b[0;34m\u001b[0m\u001b[0m\n\u001b[0;32m-> 2558\u001b[0;31m       return_same_structure=True)\n\u001b[0m\u001b[1;32m   2559\u001b[0m \u001b[0;34m\u001b[0m\u001b[0m\n\u001b[1;32m   2560\u001b[0m \u001b[0;34m\u001b[0m\u001b[0m\n",
            "\u001b[0;32m/usr/local/lib/python3.7/dist-packages/tensorflow/python/ops/control_flow_ops.py\u001b[0m in \u001b[0;36mwhile_loop\u001b[0;34m(cond, body, loop_vars, shape_invariants, parallel_iterations, back_prop, swap_memory, name, maximum_iterations, return_same_structure)\u001b[0m\n\u001b[1;32m   2793\u001b[0m                                               list(loop_vars))\n\u001b[1;32m   2794\u001b[0m       \u001b[0;32mwhile\u001b[0m \u001b[0mcond\u001b[0m\u001b[0;34m(\u001b[0m\u001b[0;34m*\u001b[0m\u001b[0mloop_vars\u001b[0m\u001b[0;34m)\u001b[0m\u001b[0;34m:\u001b[0m\u001b[0;34m\u001b[0m\u001b[0;34m\u001b[0m\u001b[0m\n\u001b[0;32m-> 2795\u001b[0;31m         \u001b[0mloop_vars\u001b[0m \u001b[0;34m=\u001b[0m \u001b[0mbody\u001b[0m\u001b[0;34m(\u001b[0m\u001b[0;34m*\u001b[0m\u001b[0mloop_vars\u001b[0m\u001b[0;34m)\u001b[0m\u001b[0;34m\u001b[0m\u001b[0;34m\u001b[0m\u001b[0m\n\u001b[0m\u001b[1;32m   2796\u001b[0m         \u001b[0;32mif\u001b[0m \u001b[0mtry_to_pack\u001b[0m \u001b[0;32mand\u001b[0m \u001b[0;32mnot\u001b[0m \u001b[0misinstance\u001b[0m\u001b[0;34m(\u001b[0m\u001b[0mloop_vars\u001b[0m\u001b[0;34m,\u001b[0m \u001b[0;34m(\u001b[0m\u001b[0mlist\u001b[0m\u001b[0;34m,\u001b[0m \u001b[0m_basetuple\u001b[0m\u001b[0;34m)\u001b[0m\u001b[0;34m)\u001b[0m\u001b[0;34m:\u001b[0m\u001b[0;34m\u001b[0m\u001b[0;34m\u001b[0m\u001b[0m\n\u001b[1;32m   2797\u001b[0m           \u001b[0mpacked\u001b[0m \u001b[0;34m=\u001b[0m \u001b[0;32mTrue\u001b[0m\u001b[0;34m\u001b[0m\u001b[0;34m\u001b[0m\u001b[0m\n",
            "\u001b[0;32m/usr/local/lib/python3.7/dist-packages/tensorflow_probability/python/distributions/pixel_cnn.py\u001b[0m in \u001b[0;36mloop_body\u001b[0;34m(index, samples)\u001b[0m\n\u001b[1;32m    532\u001b[0m       \"\"\"\n\u001b[1;32m    533\u001b[0m       \u001b[0minputs\u001b[0m \u001b[0;34m=\u001b[0m \u001b[0msamples\u001b[0m \u001b[0;32mif\u001b[0m \u001b[0mconditional_input\u001b[0m \u001b[0;32mis\u001b[0m \u001b[0;32mNone\u001b[0m \u001b[0;32melse\u001b[0m \u001b[0;34m[\u001b[0m\u001b[0msamples\u001b[0m\u001b[0;34m,\u001b[0m \u001b[0mh\u001b[0m\u001b[0;34m]\u001b[0m\u001b[0;34m\u001b[0m\u001b[0;34m\u001b[0m\u001b[0m\n\u001b[0;32m--> 534\u001b[0;31m       \u001b[0mparams\u001b[0m \u001b[0;34m=\u001b[0m \u001b[0mself\u001b[0m\u001b[0;34m.\u001b[0m\u001b[0mnetwork\u001b[0m\u001b[0;34m(\u001b[0m\u001b[0minputs\u001b[0m\u001b[0;34m,\u001b[0m \u001b[0mtraining\u001b[0m\u001b[0;34m=\u001b[0m\u001b[0mtraining\u001b[0m\u001b[0;34m)\u001b[0m\u001b[0;34m\u001b[0m\u001b[0;34m\u001b[0m\u001b[0m\n\u001b[0m\u001b[1;32m    535\u001b[0m       \u001b[0msamples_new\u001b[0m \u001b[0;34m=\u001b[0m \u001b[0mself\u001b[0m\u001b[0;34m.\u001b[0m\u001b[0m_sample_channels\u001b[0m\u001b[0;34m(\u001b[0m\u001b[0;34m*\u001b[0m\u001b[0mparams\u001b[0m\u001b[0;34m,\u001b[0m \u001b[0mseed\u001b[0m\u001b[0;34m=\u001b[0m\u001b[0mseed\u001b[0m\u001b[0;34m)\u001b[0m\u001b[0;34m\u001b[0m\u001b[0;34m\u001b[0m\u001b[0m\n\u001b[1;32m    536\u001b[0m \u001b[0;34m\u001b[0m\u001b[0m\n",
            "\u001b[0;32m/usr/local/lib/python3.7/dist-packages/keras/utils/traceback_utils.py\u001b[0m in \u001b[0;36merror_handler\u001b[0;34m(*args, **kwargs)\u001b[0m\n\u001b[1;32m     62\u001b[0m     \u001b[0mfiltered_tb\u001b[0m \u001b[0;34m=\u001b[0m \u001b[0;32mNone\u001b[0m\u001b[0;34m\u001b[0m\u001b[0;34m\u001b[0m\u001b[0m\n\u001b[1;32m     63\u001b[0m     \u001b[0;32mtry\u001b[0m\u001b[0;34m:\u001b[0m\u001b[0;34m\u001b[0m\u001b[0;34m\u001b[0m\u001b[0m\n\u001b[0;32m---> 64\u001b[0;31m       \u001b[0;32mreturn\u001b[0m \u001b[0mfn\u001b[0m\u001b[0;34m(\u001b[0m\u001b[0;34m*\u001b[0m\u001b[0margs\u001b[0m\u001b[0;34m,\u001b[0m \u001b[0;34m**\u001b[0m\u001b[0mkwargs\u001b[0m\u001b[0;34m)\u001b[0m\u001b[0;34m\u001b[0m\u001b[0;34m\u001b[0m\u001b[0m\n\u001b[0m\u001b[1;32m     65\u001b[0m     \u001b[0;32mexcept\u001b[0m \u001b[0mException\u001b[0m \u001b[0;32mas\u001b[0m \u001b[0me\u001b[0m\u001b[0;34m:\u001b[0m  \u001b[0;31m# pylint: disable=broad-except\u001b[0m\u001b[0;34m\u001b[0m\u001b[0;34m\u001b[0m\u001b[0m\n\u001b[1;32m     66\u001b[0m       \u001b[0mfiltered_tb\u001b[0m \u001b[0;34m=\u001b[0m \u001b[0m_process_traceback_frames\u001b[0m\u001b[0;34m(\u001b[0m\u001b[0me\u001b[0m\u001b[0;34m.\u001b[0m\u001b[0m__traceback__\u001b[0m\u001b[0;34m)\u001b[0m\u001b[0;34m\u001b[0m\u001b[0;34m\u001b[0m\u001b[0m\n",
            "\u001b[0;32m/usr/local/lib/python3.7/dist-packages/keras/engine/base_layer.py\u001b[0m in \u001b[0;36m__call__\u001b[0;34m(self, *args, **kwargs)\u001b[0m\n\u001b[1;32m   1081\u001b[0m         with autocast_variable.enable_auto_cast_variables(\n\u001b[1;32m   1082\u001b[0m             self._compute_dtype_object):\n\u001b[0;32m-> 1083\u001b[0;31m           \u001b[0moutputs\u001b[0m \u001b[0;34m=\u001b[0m \u001b[0mcall_fn\u001b[0m\u001b[0;34m(\u001b[0m\u001b[0minputs\u001b[0m\u001b[0;34m,\u001b[0m \u001b[0;34m*\u001b[0m\u001b[0margs\u001b[0m\u001b[0;34m,\u001b[0m \u001b[0;34m**\u001b[0m\u001b[0mkwargs\u001b[0m\u001b[0;34m)\u001b[0m\u001b[0;34m\u001b[0m\u001b[0;34m\u001b[0m\u001b[0m\n\u001b[0m\u001b[1;32m   1084\u001b[0m \u001b[0;34m\u001b[0m\u001b[0m\n\u001b[1;32m   1085\u001b[0m         \u001b[0;32mif\u001b[0m \u001b[0mself\u001b[0m\u001b[0;34m.\u001b[0m\u001b[0m_activity_regularizer\u001b[0m\u001b[0;34m:\u001b[0m\u001b[0;34m\u001b[0m\u001b[0;34m\u001b[0m\u001b[0m\n",
            "\u001b[0;32m/usr/local/lib/python3.7/dist-packages/keras/utils/traceback_utils.py\u001b[0m in \u001b[0;36merror_handler\u001b[0;34m(*args, **kwargs)\u001b[0m\n\u001b[1;32m     90\u001b[0m     \u001b[0mbound_signature\u001b[0m \u001b[0;34m=\u001b[0m \u001b[0;32mNone\u001b[0m\u001b[0;34m\u001b[0m\u001b[0;34m\u001b[0m\u001b[0m\n\u001b[1;32m     91\u001b[0m     \u001b[0;32mtry\u001b[0m\u001b[0;34m:\u001b[0m\u001b[0;34m\u001b[0m\u001b[0;34m\u001b[0m\u001b[0m\n\u001b[0;32m---> 92\u001b[0;31m       \u001b[0;32mreturn\u001b[0m \u001b[0mfn\u001b[0m\u001b[0;34m(\u001b[0m\u001b[0;34m*\u001b[0m\u001b[0margs\u001b[0m\u001b[0;34m,\u001b[0m \u001b[0;34m**\u001b[0m\u001b[0mkwargs\u001b[0m\u001b[0;34m)\u001b[0m\u001b[0;34m\u001b[0m\u001b[0;34m\u001b[0m\u001b[0m\n\u001b[0m\u001b[1;32m     93\u001b[0m     \u001b[0;32mexcept\u001b[0m \u001b[0mException\u001b[0m \u001b[0;32mas\u001b[0m \u001b[0me\u001b[0m\u001b[0;34m:\u001b[0m  \u001b[0;31m# pylint: disable=broad-except\u001b[0m\u001b[0;34m\u001b[0m\u001b[0;34m\u001b[0m\u001b[0m\n\u001b[1;32m     94\u001b[0m       \u001b[0;32mif\u001b[0m \u001b[0mhasattr\u001b[0m\u001b[0;34m(\u001b[0m\u001b[0me\u001b[0m\u001b[0;34m,\u001b[0m \u001b[0;34m'_keras_call_info_injected'\u001b[0m\u001b[0;34m)\u001b[0m\u001b[0;34m:\u001b[0m\u001b[0;34m\u001b[0m\u001b[0;34m\u001b[0m\u001b[0m\n",
            "\u001b[0;32m/usr/local/lib/python3.7/dist-packages/tensorflow_probability/python/distributions/pixel_cnn.py\u001b[0m in \u001b[0;36mcall\u001b[0;34m(self, inputs, training)\u001b[0m\n\u001b[1;32m    986\u001b[0m           \u001b[0;31m`\u001b[0m\u001b[0mnum_coeffs\u001b[0m \u001b[0;34m=\u001b[0m \u001b[0mnum_channels\u001b[0m \u001b[0;34m*\u001b[0m \u001b[0;34m(\u001b[0m\u001b[0mnum_channels\u001b[0m \u001b[0;34m-\u001b[0m \u001b[0;36m1\u001b[0m\u001b[0;34m)\u001b[0m \u001b[0;34m//\u001b[0m \u001b[0;36m2\u001b[0m\u001b[0;31m`\u001b[0m\u001b[0;34m.\u001b[0m\u001b[0;34m\u001b[0m\u001b[0;34m\u001b[0m\u001b[0m\n\u001b[1;32m    987\u001b[0m     \"\"\"\n\u001b[0;32m--> 988\u001b[0;31m     \u001b[0;32mreturn\u001b[0m \u001b[0mself\u001b[0m\u001b[0;34m.\u001b[0m\u001b[0m_network\u001b[0m\u001b[0;34m(\u001b[0m\u001b[0minputs\u001b[0m\u001b[0;34m,\u001b[0m \u001b[0mtraining\u001b[0m\u001b[0;34m=\u001b[0m\u001b[0mtraining\u001b[0m\u001b[0;34m)\u001b[0m\u001b[0;34m\u001b[0m\u001b[0;34m\u001b[0m\u001b[0m\n\u001b[0m\u001b[1;32m    989\u001b[0m \u001b[0;34m\u001b[0m\u001b[0m\n\u001b[1;32m    990\u001b[0m \u001b[0;34m\u001b[0m\u001b[0m\n",
            "\u001b[0;32m/usr/local/lib/python3.7/dist-packages/keras/utils/traceback_utils.py\u001b[0m in \u001b[0;36merror_handler\u001b[0;34m(*args, **kwargs)\u001b[0m\n\u001b[1;32m     62\u001b[0m     \u001b[0mfiltered_tb\u001b[0m \u001b[0;34m=\u001b[0m \u001b[0;32mNone\u001b[0m\u001b[0;34m\u001b[0m\u001b[0;34m\u001b[0m\u001b[0m\n\u001b[1;32m     63\u001b[0m     \u001b[0;32mtry\u001b[0m\u001b[0;34m:\u001b[0m\u001b[0;34m\u001b[0m\u001b[0;34m\u001b[0m\u001b[0m\n\u001b[0;32m---> 64\u001b[0;31m       \u001b[0;32mreturn\u001b[0m \u001b[0mfn\u001b[0m\u001b[0;34m(\u001b[0m\u001b[0;34m*\u001b[0m\u001b[0margs\u001b[0m\u001b[0;34m,\u001b[0m \u001b[0;34m**\u001b[0m\u001b[0mkwargs\u001b[0m\u001b[0;34m)\u001b[0m\u001b[0;34m\u001b[0m\u001b[0;34m\u001b[0m\u001b[0m\n\u001b[0m\u001b[1;32m     65\u001b[0m     \u001b[0;32mexcept\u001b[0m \u001b[0mException\u001b[0m \u001b[0;32mas\u001b[0m \u001b[0me\u001b[0m\u001b[0;34m:\u001b[0m  \u001b[0;31m# pylint: disable=broad-except\u001b[0m\u001b[0;34m\u001b[0m\u001b[0;34m\u001b[0m\u001b[0m\n\u001b[1;32m     66\u001b[0m       \u001b[0mfiltered_tb\u001b[0m \u001b[0;34m=\u001b[0m \u001b[0m_process_traceback_frames\u001b[0m\u001b[0;34m(\u001b[0m\u001b[0me\u001b[0m\u001b[0;34m.\u001b[0m\u001b[0m__traceback__\u001b[0m\u001b[0;34m)\u001b[0m\u001b[0;34m\u001b[0m\u001b[0;34m\u001b[0m\u001b[0m\n",
            "\u001b[0;32m/usr/local/lib/python3.7/dist-packages/keras/engine/base_layer.py\u001b[0m in \u001b[0;36m__call__\u001b[0;34m(self, *args, **kwargs)\u001b[0m\n\u001b[1;32m   1081\u001b[0m         with autocast_variable.enable_auto_cast_variables(\n\u001b[1;32m   1082\u001b[0m             self._compute_dtype_object):\n\u001b[0;32m-> 1083\u001b[0;31m           \u001b[0moutputs\u001b[0m \u001b[0;34m=\u001b[0m \u001b[0mcall_fn\u001b[0m\u001b[0;34m(\u001b[0m\u001b[0minputs\u001b[0m\u001b[0;34m,\u001b[0m \u001b[0;34m*\u001b[0m\u001b[0margs\u001b[0m\u001b[0;34m,\u001b[0m \u001b[0;34m**\u001b[0m\u001b[0mkwargs\u001b[0m\u001b[0;34m)\u001b[0m\u001b[0;34m\u001b[0m\u001b[0;34m\u001b[0m\u001b[0m\n\u001b[0m\u001b[1;32m   1084\u001b[0m \u001b[0;34m\u001b[0m\u001b[0m\n\u001b[1;32m   1085\u001b[0m         \u001b[0;32mif\u001b[0m \u001b[0mself\u001b[0m\u001b[0;34m.\u001b[0m\u001b[0m_activity_regularizer\u001b[0m\u001b[0;34m:\u001b[0m\u001b[0;34m\u001b[0m\u001b[0;34m\u001b[0m\u001b[0m\n",
            "\u001b[0;32m/usr/local/lib/python3.7/dist-packages/keras/utils/traceback_utils.py\u001b[0m in \u001b[0;36merror_handler\u001b[0;34m(*args, **kwargs)\u001b[0m\n\u001b[1;32m     90\u001b[0m     \u001b[0mbound_signature\u001b[0m \u001b[0;34m=\u001b[0m \u001b[0;32mNone\u001b[0m\u001b[0;34m\u001b[0m\u001b[0;34m\u001b[0m\u001b[0m\n\u001b[1;32m     91\u001b[0m     \u001b[0;32mtry\u001b[0m\u001b[0;34m:\u001b[0m\u001b[0;34m\u001b[0m\u001b[0;34m\u001b[0m\u001b[0m\n\u001b[0;32m---> 92\u001b[0;31m       \u001b[0;32mreturn\u001b[0m \u001b[0mfn\u001b[0m\u001b[0;34m(\u001b[0m\u001b[0;34m*\u001b[0m\u001b[0margs\u001b[0m\u001b[0;34m,\u001b[0m \u001b[0;34m**\u001b[0m\u001b[0mkwargs\u001b[0m\u001b[0;34m)\u001b[0m\u001b[0;34m\u001b[0m\u001b[0;34m\u001b[0m\u001b[0m\n\u001b[0m\u001b[1;32m     93\u001b[0m     \u001b[0;32mexcept\u001b[0m \u001b[0mException\u001b[0m \u001b[0;32mas\u001b[0m \u001b[0me\u001b[0m\u001b[0;34m:\u001b[0m  \u001b[0;31m# pylint: disable=broad-except\u001b[0m\u001b[0;34m\u001b[0m\u001b[0;34m\u001b[0m\u001b[0m\n\u001b[1;32m     94\u001b[0m       \u001b[0;32mif\u001b[0m \u001b[0mhasattr\u001b[0m\u001b[0;34m(\u001b[0m\u001b[0me\u001b[0m\u001b[0;34m,\u001b[0m \u001b[0;34m'_keras_call_info_injected'\u001b[0m\u001b[0;34m)\u001b[0m\u001b[0;34m:\u001b[0m\u001b[0;34m\u001b[0m\u001b[0;34m\u001b[0m\u001b[0m\n",
            "\u001b[0;32m/usr/local/lib/python3.7/dist-packages/keras/engine/functional.py\u001b[0m in \u001b[0;36mcall\u001b[0;34m(self, inputs, training, mask)\u001b[0m\n\u001b[1;32m    450\u001b[0m     \"\"\"\n\u001b[1;32m    451\u001b[0m     return self._run_internal_graph(\n\u001b[0;32m--> 452\u001b[0;31m         inputs, training=training, mask=mask)\n\u001b[0m\u001b[1;32m    453\u001b[0m \u001b[0;34m\u001b[0m\u001b[0m\n\u001b[1;32m    454\u001b[0m   \u001b[0;32mdef\u001b[0m \u001b[0mcompute_output_shape\u001b[0m\u001b[0;34m(\u001b[0m\u001b[0mself\u001b[0m\u001b[0;34m,\u001b[0m \u001b[0minput_shape\u001b[0m\u001b[0;34m)\u001b[0m\u001b[0;34m:\u001b[0m\u001b[0;34m\u001b[0m\u001b[0;34m\u001b[0m\u001b[0m\n",
            "\u001b[0;32m/usr/local/lib/python3.7/dist-packages/keras/engine/functional.py\u001b[0m in \u001b[0;36m_run_internal_graph\u001b[0;34m(self, inputs, training, mask)\u001b[0m\n\u001b[1;32m    587\u001b[0m \u001b[0;34m\u001b[0m\u001b[0m\n\u001b[1;32m    588\u001b[0m         \u001b[0margs\u001b[0m\u001b[0;34m,\u001b[0m \u001b[0mkwargs\u001b[0m \u001b[0;34m=\u001b[0m \u001b[0mnode\u001b[0m\u001b[0;34m.\u001b[0m\u001b[0mmap_arguments\u001b[0m\u001b[0;34m(\u001b[0m\u001b[0mtensor_dict\u001b[0m\u001b[0;34m)\u001b[0m\u001b[0;34m\u001b[0m\u001b[0;34m\u001b[0m\u001b[0m\n\u001b[0;32m--> 589\u001b[0;31m         \u001b[0moutputs\u001b[0m \u001b[0;34m=\u001b[0m \u001b[0mnode\u001b[0m\u001b[0;34m.\u001b[0m\u001b[0mlayer\u001b[0m\u001b[0;34m(\u001b[0m\u001b[0;34m*\u001b[0m\u001b[0margs\u001b[0m\u001b[0;34m,\u001b[0m \u001b[0;34m**\u001b[0m\u001b[0mkwargs\u001b[0m\u001b[0;34m)\u001b[0m\u001b[0;34m\u001b[0m\u001b[0;34m\u001b[0m\u001b[0m\n\u001b[0m\u001b[1;32m    590\u001b[0m \u001b[0;34m\u001b[0m\u001b[0m\n\u001b[1;32m    591\u001b[0m         \u001b[0;31m# Update tensor_dict.\u001b[0m\u001b[0;34m\u001b[0m\u001b[0;34m\u001b[0m\u001b[0;34m\u001b[0m\u001b[0m\n",
            "\u001b[0;32m/usr/local/lib/python3.7/dist-packages/keras/utils/traceback_utils.py\u001b[0m in \u001b[0;36merror_handler\u001b[0;34m(*args, **kwargs)\u001b[0m\n\u001b[1;32m     62\u001b[0m     \u001b[0mfiltered_tb\u001b[0m \u001b[0;34m=\u001b[0m \u001b[0;32mNone\u001b[0m\u001b[0;34m\u001b[0m\u001b[0;34m\u001b[0m\u001b[0m\n\u001b[1;32m     63\u001b[0m     \u001b[0;32mtry\u001b[0m\u001b[0;34m:\u001b[0m\u001b[0;34m\u001b[0m\u001b[0;34m\u001b[0m\u001b[0m\n\u001b[0;32m---> 64\u001b[0;31m       \u001b[0;32mreturn\u001b[0m \u001b[0mfn\u001b[0m\u001b[0;34m(\u001b[0m\u001b[0;34m*\u001b[0m\u001b[0margs\u001b[0m\u001b[0;34m,\u001b[0m \u001b[0;34m**\u001b[0m\u001b[0mkwargs\u001b[0m\u001b[0;34m)\u001b[0m\u001b[0;34m\u001b[0m\u001b[0;34m\u001b[0m\u001b[0m\n\u001b[0m\u001b[1;32m     65\u001b[0m     \u001b[0;32mexcept\u001b[0m \u001b[0mException\u001b[0m \u001b[0;32mas\u001b[0m \u001b[0me\u001b[0m\u001b[0;34m:\u001b[0m  \u001b[0;31m# pylint: disable=broad-except\u001b[0m\u001b[0;34m\u001b[0m\u001b[0;34m\u001b[0m\u001b[0m\n\u001b[1;32m     66\u001b[0m       \u001b[0mfiltered_tb\u001b[0m \u001b[0;34m=\u001b[0m \u001b[0m_process_traceback_frames\u001b[0m\u001b[0;34m(\u001b[0m\u001b[0me\u001b[0m\u001b[0;34m.\u001b[0m\u001b[0m__traceback__\u001b[0m\u001b[0;34m)\u001b[0m\u001b[0;34m\u001b[0m\u001b[0;34m\u001b[0m\u001b[0m\n",
            "\u001b[0;32m/usr/local/lib/python3.7/dist-packages/keras/engine/base_layer.py\u001b[0m in \u001b[0;36m__call__\u001b[0;34m(self, *args, **kwargs)\u001b[0m\n\u001b[1;32m   1061\u001b[0m         training=training_mode):\n\u001b[1;32m   1062\u001b[0m \u001b[0;34m\u001b[0m\u001b[0m\n\u001b[0;32m-> 1063\u001b[0;31m       \u001b[0minput_spec\u001b[0m\u001b[0;34m.\u001b[0m\u001b[0massert_input_compatibility\u001b[0m\u001b[0;34m(\u001b[0m\u001b[0mself\u001b[0m\u001b[0;34m.\u001b[0m\u001b[0minput_spec\u001b[0m\u001b[0;34m,\u001b[0m \u001b[0minputs\u001b[0m\u001b[0;34m,\u001b[0m \u001b[0mself\u001b[0m\u001b[0;34m.\u001b[0m\u001b[0mname\u001b[0m\u001b[0;34m)\u001b[0m\u001b[0;34m\u001b[0m\u001b[0;34m\u001b[0m\u001b[0m\n\u001b[0m\u001b[1;32m   1064\u001b[0m       \u001b[0;32mif\u001b[0m \u001b[0meager\u001b[0m\u001b[0;34m:\u001b[0m\u001b[0;34m\u001b[0m\u001b[0;34m\u001b[0m\u001b[0m\n\u001b[1;32m   1065\u001b[0m         \u001b[0mcall_fn\u001b[0m \u001b[0;34m=\u001b[0m \u001b[0mself\u001b[0m\u001b[0;34m.\u001b[0m\u001b[0mcall\u001b[0m\u001b[0;34m\u001b[0m\u001b[0;34m\u001b[0m\u001b[0m\n",
            "\u001b[0;31mKeyboardInterrupt\u001b[0m: "
          ]
        }
      ]
    },
    {
      "cell_type": "code",
      "metadata": {
        "id": "vVf9VX3sZunO"
      },
      "source": [
        "model.summary()"
      ],
      "execution_count": null,
      "outputs": []
    },
    {
      "cell_type": "code",
      "metadata": {
        "id": "-_Y-JcbEaMTP"
      },
      "source": [
        "## Training (with no conditional input)\n",
        "def image_preprocess(x):\n",
        "  x['image'] = tf.cast(x['image'], tf.float32)\n",
        "  return (x['image'],)  # (input, output) of the model\n",
        "\n",
        "\n",
        "def image_preprocess_label(x):\n",
        "  x['image'] = tf.cast(x['image'], tf.float32)\n",
        "  # return model (inputs, outputs): inputs are (image, label) and there are no\n",
        "  # outputs\n",
        "  return ((x['image'], x['label']),) # the input is tupled, and no output\n",
        "\n",
        "batch_size = 16\n",
        "train_ds = train_data.map(image_preprocess).batch(batch_size).shuffle(1000)\n",
        "optimizer = keras.optimizers.Adam()"
      ],
      "execution_count": 23,
      "outputs": []
    },
    {
      "cell_type": "code",
      "metadata": {
        "colab": {
          "base_uri": "https://localhost:8080/"
        },
        "id": "6RlOSzgVd3tL",
        "outputId": "7a70ebab-4de4-429b-c9ce-9d8a17d72f9d"
      },
      "source": [
        "for data in train_ds.take(3):\n",
        "  print(data[0].shape)"
      ],
      "execution_count": 24,
      "outputs": [
        {
          "output_type": "stream",
          "name": "stdout",
          "text": [
            "(16, 28, 28, 1)\n",
            "(16, 28, 28, 1)\n",
            "(16, 28, 28, 1)\n"
          ]
        }
      ]
    },
    {
      "cell_type": "code",
      "metadata": {
        "colab": {
          "base_uri": "https://localhost:8080/"
        },
        "id": "vK5ZQVD9d1Dy",
        "outputId": "6b5e4afd-c6b9-4e96-f8d6-1a1ccd3ffca8"
      },
      "source": [
        "model.add_loss(-tf.reduce_mean(log_prob))\n",
        "\n",
        "# Compile and train the model\n",
        "model.compile(\n",
        "    optimizer=keras.optimizers.Adam(.001),\n",
        "    metrics=[])\n",
        "\n",
        "model.fit(train_ds, epochs=10, verbose=True)"
      ],
      "execution_count": 25,
      "outputs": [
        {
          "output_type": "stream",
          "name": "stdout",
          "text": [
            "Epoch 1/10\n",
            "3750/3750 [==============================] - 108s 28ms/step - loss: 743.2513\n",
            "Epoch 2/10\n",
            "3750/3750 [==============================] - 105s 28ms/step - loss: 662.4865\n",
            "Epoch 3/10\n",
            "3750/3750 [==============================] - 106s 28ms/step - loss: 649.4509\n",
            "Epoch 4/10\n",
            "3750/3750 [==============================] - 106s 28ms/step - loss: 642.4157\n",
            "Epoch 5/10\n",
            "3750/3750 [==============================] - 106s 28ms/step - loss: 636.6602\n",
            "Epoch 6/10\n",
            "3750/3750 [==============================] - 105s 28ms/step - loss: 633.6218\n",
            "Epoch 7/10\n",
            "3750/3750 [==============================] - 106s 28ms/step - loss: 631.0873\n",
            "Epoch 8/10\n",
            "3750/3750 [==============================] - 105s 28ms/step - loss: 627.6663\n",
            "Epoch 9/10\n",
            "3750/3750 [==============================] - 106s 28ms/step - loss: 626.2527\n",
            "Epoch 10/10\n",
            "3750/3750 [==============================] - 104s 28ms/step - loss: 624.2189\n"
          ]
        },
        {
          "output_type": "execute_result",
          "data": {
            "text/plain": [
              "<keras.callbacks.History at 0x2e4b7f32a60>"
            ]
          },
          "metadata": {},
          "execution_count": 25
        }
      ]
    },
    {
      "cell_type": "code",
      "metadata": {
        "id": "JsDvofvBePpZ"
      },
      "source": [
        "# sample five images from the trained model\n",
        "samples = dist.sample(5)"
      ],
      "execution_count": null,
      "outputs": []
    },
    {
      "cell_type": "code",
      "metadata": {
        "colab": {
          "base_uri": "https://localhost:8080/",
          "height": 649
        },
        "id": "DfDroI_Rh87O",
        "outputId": "1c1e1cb8-5f01-4032-a97a-18ffbca25e0e"
      },
      "source": [
        "print(type(samples), samples.shape) #(B, image_input_shape)\n",
        "for i in range(len(samples)):\n",
        "    fig = plt.figure(figsize=(2, 2))\n",
        "    plt.subplot(1, 1, 1)\n",
        "    plt.imshow(samples[i].numpy().squeeze()) #.squeeze())\n",
        "    # plt.title(\"Original\")\n",
        "    plt.axis(\"off\")\n",
        "\n",
        "    plt.show()"
      ],
      "execution_count": 69,
      "outputs": [
        {
          "output_type": "stream",
          "name": "stdout",
          "text": [
            "<class 'tensorflow.python.framework.ops.EagerTensor'> (5, 28, 28, 1)\n"
          ]
        },
        {
          "output_type": "display_data",
          "data": {
            "text/plain": [
              "<Figure size 144x144 with 1 Axes>"
            ],
            "image/png": "[encoded data removed]"
          },
          "metadata": {
            "needs_background": "light"
          }
        },
        {
          "output_type": "display_data",
          "data": {
            "text/plain": [
              "<Figure size 144x144 with 1 Axes>"
            ],
            "image/png": "[encoded data removed]"
          },
          "metadata": {
            "needs_background": "light"
          }
        },
        {
          "output_type": "display_data",
          "data": {
            "text/plain": [
              "<Figure size 144x144 with 1 Axes>"
            ],
            "image/png": "[encoded data removed]"
          },
          "metadata": {
            "needs_background": "light"
          }
        },
        {
          "output_type": "display_data",
          "data": {
            "text/plain": [
              "<Figure size 144x144 with 1 Axes>"
            ],
            "image/png": "[encoded data removed]"
          },
          "metadata": {
            "needs_background": "light"
          }
        },
        {
          "output_type": "display_data",
          "data": {
            "text/plain": [
              "<Figure size 144x144 with 1 Axes>"
            ],
            "image/png": "[encoded data removed]"
          },
          "metadata": {
            "needs_background": "light"
          }
        }
      ]
    },
    {
      "cell_type": "code",
      "metadata": {
        "id": "MyjxQKXBiSgu",
        "colab": {
          "base_uri": "https://localhost:8080/"
        },
        "outputId": "7317a6ce-f90c-4759-fb45-53915317eadf"
      },
      "source": [
        "## Training (with conditional input)\n",
        "train_ds_label = train_data.map(image_preprocess_label).batch(batch_size).shuffle(1000)\n",
        "optimizer = keras.optimizers.Adam()\n",
        "\n",
        "for data in train_ds_label.take(1):\n",
        "  print(type(data), len(data), data[0][0].shape, data[0][1]) #(note that no outputs...)\n",
        "\n"
      ],
      "execution_count": 55,
      "outputs": [
        {
          "output_type": "stream",
          "name": "stdout",
          "text": [
            "<class 'tuple'> 1 (16, 28, 28, 1) tf.Tensor([8 8 6 1 0 9 9 6 1 7 5 4 9 3 1 9], shape=(16,), dtype=int64)\n"
          ]
        }
      ]
    },
    {
      "cell_type": "code",
      "metadata": {
        "id": "x-FCoUQtsIPb"
      },
      "source": [
        "image_shape = (28, 28, 1)\n",
        "label_shape = ()\n",
        "class_cond_dist = tfp.distributions.PixelCNN(\n",
        "    image_shape=image_shape,\n",
        "    conditional_shape=label_shape,\n",
        "    num_resnet=1,\n",
        "    num_hierarchies=2,\n",
        "    num_filters=32,\n",
        "    num_logistic_mix=5,\n",
        "    dropout_p=.3,\n",
        ")\n",
        "\n",
        "image_input = layers.Input(shape=image_shape)\n",
        "label_input = layers.Input(shape=label_shape)\n",
        "\n",
        "class_cond_log_prob = class_cond_dist.log_prob(image_input, conditional_input=label_input)\n",
        "\n",
        "class_cond_model = keras.Model(\n",
        "    inputs=[image_input, label_input], outputs=class_cond_log_prob)\n",
        "class_cond_model.add_loss(-tf.reduce_mean(class_cond_log_prob))\n",
        "class_cond_model.compile(\n",
        "    optimizer=keras.optimizers.Adam(),\n",
        "    metrics=[])\n",
        "class_cond_model.fit(train_ds_label, epochs=10)"
      ],
      "execution_count": null,
      "outputs": []
    },
    {
      "cell_type": "code",
      "metadata": {
        "colab": {
          "base_uri": "https://localhost:8080/",
          "height": 1000
        },
        "id": "G_07rbn-tW0L",
        "outputId": "bae9dc1a-3549-48b6-8de8-2f00584b40f9"
      },
      "source": [
        "# $$$ samples of the digit '5'\n",
        "samples = class_cond_dist.sample(5, conditional_input=1)\n",
        "print(type(samples), samples.shape) #(B, image_input_shape)\n",
        "for i in range(len(samples)):\n",
        "    # fig = plt.figure(figsize=(5, 2))\n",
        "    plt.subplot(1, 1, 1)\n",
        "    plt.imshow(samples[i].numpy().squeeze()) #.squeeze())\n",
        "    # plt.title(\"Original\")\n",
        "    plt.axis(\"off\")\n",
        "\n",
        "    plt.show()"
      ],
      "execution_count": 78,
      "outputs": [
        {
          "output_type": "stream",
          "name": "stdout",
          "text": [
            "<class 'tensorflow.python.framework.ops.EagerTensor'> (5, 28, 28, 1)\n"
          ]
        },
        {
          "output_type": "display_data",
          "data": {
            "text/plain": [
              "<Figure size 432x288 with 1 Axes>"
            ],
            "image/png": "[encoded data removed]"
          },
          "metadata": {
            "needs_background": "light"
          }
        },
        {
          "output_type": "display_data",
          "data": {
            "text/plain": [
              "<Figure size 432x288 with 1 Axes>"
            ],
            "image/png": "[encoded data removed]"
          },
          "metadata": {
            "needs_background": "light"
          }
        },
        {
          "output_type": "display_data",
          "data": {
            "text/plain": [
              "<Figure size 432x288 with 1 Axes>"
            ],
            "image/png": "[encoded data removed]"
          },
          "metadata": {
            "needs_background": "light"
          }
        },
        {
          "output_type": "display_data",
          "data": {
            "text/plain": [
              "<Figure size 432x288 with 1 Axes>"
            ],
            "image/png": "[encoded data removed]"
          },
          "metadata": {
            "needs_background": "light"
          }
        },
        {
          "output_type": "display_data",
          "data": {
            "text/plain": [
              "<Figure size 432x288 with 1 Axes>"
            ],
            "image/png": "[encoded data removed]"
          },
          "metadata": {
            "needs_background": "light"
          }
        }
      ]
    },
    {
      "cell_type": "code",
      "metadata": {
        "id": "X2Pe3QTu2eeD"
      },
      "source": [
        "# Take 4 samples each of the digits '1', '2', '3'.\n",
        "# Note that when a batch of conditional input is passed, the sample shape\n",
        "# (the first argument of `dist.sample`) must have its last dimension(s) equal\n",
        "# the batch shape of the conditional input (here, (3,)).\n",
        "samples = class_cond_dist.sample((4, 3), conditional_input=[1., 2., 3.])"
      ],
      "execution_count": 74,
      "outputs": []
    },
    {
      "cell_type": "code",
      "metadata": {
        "colab": {
          "base_uri": "https://localhost:8080/"
        },
        "id": "bI5T3u8s5piF",
        "outputId": "e69efee6-3f9f-4647-eb9a-83d0e7e3fda2"
      },
      "source": [
        "print(samples.shape)"
      ],
      "execution_count": 75,
      "outputs": [
        {
          "output_type": "stream",
          "name": "stdout",
          "text": [
            "(4, 3, 28, 28, 1)\n"
          ]
        }
      ]
    },
    {
      "cell_type": "code",
      "metadata": {
        "colab": {
          "base_uri": "https://localhost:8080/",
          "height": 465
        },
        "id": "m-SiJZt96GCf",
        "outputId": "f8638fe7-1639-459c-8418-9f719254553d"
      },
      "source": [
        "for i in range(len(samples)):\n",
        "    # fig = plt.figure(figsize=(5, 2))\n",
        "    plt.subplot(1, 3, 1)\n",
        "    plt.imshow(samples[i][0].numpy().squeeze()) #.squeeze())\n",
        "    # plt.title(\"Original\")\n",
        "    plt.axis(\"off\")\n",
        "\n",
        "    plt.subplot(1, 3, 2)\n",
        "    plt.imshow(samples[i][1].numpy().squeeze()) #.squeeze())\n",
        "    # plt.title(\"Original\")\n",
        "    plt.axis(\"off\")\n",
        "\n",
        "    plt.subplot(1, 3, 3)\n",
        "    plt.imshow(samples[i][2].numpy().squeeze()) #.squeeze())\n",
        "    # plt.title(\"Original\")\n",
        "    plt.axis(\"off\")\n",
        "\n",
        "    plt.show()"
      ],
      "execution_count": 76,
      "outputs": [
        {
          "output_type": "display_data",
          "data": {
            "text/plain": [
              "<Figure size 432x288 with 3 Axes>"
            ],
            "image/png": "[encoded data removed]"
          },
          "metadata": {
            "needs_background": "light"
          }
        },
        {
          "output_type": "display_data",
          "data": {
            "text/plain": [
              "<Figure size 432x288 with 3 Axes>"
            ],
            "image/png": "[encoded data removed]"
          },
          "metadata": {
            "needs_background": "light"
          }
        },
        {
          "output_type": "display_data",
          "data": {
            "text/plain": [
              "<Figure size 432x288 with 3 Axes>"
            ],
            "image/png": "[encoded data removed]"
          },
          "metadata": {
            "needs_background": "light"
          }
        },
        {
          "output_type": "display_data",
          "data": {
            "text/plain": [
              "<Figure size 432x288 with 3 Axes>"
            ],
            "image/png": "[encoded data removed]"
          },
          "metadata": {
            "needs_background": "light"
          }
        }
      ]
    },
    {
      "cell_type": "code",
      "metadata": {
        "id": "UY2Adc1k6XUU"
      },
      "source": [
        ""
      ],
      "execution_count": null,
      "outputs": []
    },
    {
      "cell_type": "markdown",
      "metadata": {
        "id": "iePtr8YMD7sk"
      },
      "source": [
        "#### Back to use the Lib PixelCNN to generate priors for our VQ-VAE"
      ]
    },
    {
      "cell_type": "code",
      "metadata": {
        "id": "5GcH892tFCS7"
      },
      "source": [
        "### DEBUG\n",
        "for data in train_data.take(10):\n",
        "  image_data = tf.cast(data['image'], tf.float32)\n",
        "  print(data['image'].shape, data['label'])\n",
        "  print(image_data[0].numpy().transpose())\n",
        "  data_scaled = (image_data / 255.0) - 0.5\n",
        "  print(data_scaled[0].numpy().transpose())\n",
        "  # (B, eH, eW, L)\n",
        "  # encoded_outputs = encoder.predict(tf.expand_dims(data_scaled, axis=0))\n",
        "  encoded_outputs = encoder(tf.expand_dims(data_scaled, axis=0))\n",
        "  print(encoded_outputs.shape)\n",
        "  flat_enc_outputs = encoded_outputs.numpy().reshape(-1, encoded_outputs.shape[-1])\n",
        "  print(flat_enc_outputs.shape)\n",
        "  # each pixel matches a index mapping to an embedding in codebook\n",
        "  codebook_indices = quantizer.get_code_indices(flat_enc_outputs)\n",
        "  # (B, eH, eW)\n",
        "  codebook_indices = codebook_indices.numpy().reshape(encoded_outputs.shape[:-1])\n",
        "  print(codebook_indices.shape)\n",
        "  print(codebook_indices[0])\n",
        "\n",
        "  ## For Debug, reconstruction\n",
        "  # Perform an embedding lookup.\n",
        "  pretrained_embeddings = quantizer.embeddings\n",
        "  priors_ohe = tf.one_hot(codebook_indices.astype(\"int32\"), vqvae_trainer.num_embeddings).numpy()\n",
        "  quantized = tf.matmul(\n",
        "      priors_ohe.astype(\"float32\"), pretrained_embeddings, transpose_b=True\n",
        "  )\n",
        "  quantized = tf.reshape(quantized, (-1, *(encoded_outputs.shape[1:])))\n",
        "  print(\"Zq Shape: \", quantized.shape) #(B, dH, hW, L)\n",
        "\n",
        "  # Generate novel images.\n",
        "  decoder = vqvae_trainer.vqvae.get_layer(\"decoder\")\n",
        "  generated_samples = decoder.predict(quantized)\n",
        "  print(\"Generated/Reconstructed image: \", generated_samples.shape)\n",
        "\n",
        "  # For Debug, plotting\n",
        "  plt.subplot(1, 3, 1)\n",
        "  plt.imshow(data_scaled.numpy().squeeze() + 0.5)\n",
        "  plt.title(\"Original\")\n",
        "  plt.axis(\"off\")\n",
        "\n",
        "  plt.subplot(1, 3, 2)\n",
        "  plt.imshow(codebook_indices[0])\n",
        "  plt.title(\"Code\")\n",
        "  plt.axis(\"off\")\n",
        "\n",
        "  plt.subplot(1, 3, 3)\n",
        "  plt.imshow(generated_samples[0].squeeze() + 0.5)\n",
        "  plt.title(\"Reconstructed\")\n",
        "  plt.axis(\"off\")\n",
        "  plt.show()\n"
      ],
      "execution_count": null,
      "outputs": []
    },
    {
      "cell_type": "code",
      "metadata": {
        "colab": {
          "base_uri": "https://localhost:8080/"
        },
        "id": "aURIZwilLrcu",
        "outputId": "299c393a-e3f1-4eaa-c1d5-91b5e2e77639"
      },
      "source": [
        "## Reload training labels\n",
        "(_, y_train), (_, _) = keras.datasets.mnist.load_data()\n",
        "print(y_train.shape)"
      ],
      "execution_count": 134,
      "outputs": [
        {
          "output_type": "stream",
          "name": "stdout",
          "text": [
            "(60000,)\n"
          ]
        }
      ]
    },
    {
      "cell_type": "code",
      "metadata": {
        "colab": {
          "base_uri": "https://localhost:8080/"
        },
        "id": "SCJ0-bUYECKb",
        "outputId": "d6b4c4c2-8ff1-46d2-e046-08279330395b"
      },
      "source": [
        "encoded_outputs = encoder.predict(x_train_scaled)\n",
        "flat_enc_outputs = encoded_outputs.reshape(-1, encoded_outputs.shape[-1])\n",
        "codebook_indices = quantizer.get_code_indices(flat_enc_outputs) # each pixel matches a index mapping to an embedding in codebook\n",
        "\n",
        "codebook_indices = codebook_indices.numpy().reshape(encoded_outputs.shape[:-1])\n",
        "\n",
        "pretrained_embeddings = quantizer.embeddings\n",
        "priors_ohe = tf.one_hot(codebook_indices.astype(\"int32\"), vqvae_trainer.num_embeddings).numpy()\n",
        "quantized = tf.matmul(\n",
        "    priors_ohe.astype(\"float32\"), pretrained_embeddings, transpose_b=True\n",
        ")\n",
        "quantized = tf.reshape(quantized, (-1, *(encoded_outputs.shape[1:])))\n",
        "print(\"Zq Shape: \", quantized.shape) #(B, dH, hW, L)\n",
        "\n",
        "# Generate novel images.\n",
        "decoder = vqvae_trainer.vqvae.get_layer(\"decoder\")\n",
        "generated_samples = decoder.predict(quantized)\n",
        "print(\"Generated/Reconstructed image: \", generated_samples.shape)"
      ],
      "execution_count": 129,
      "outputs": [
        {
          "output_type": "stream",
          "name": "stdout",
          "text": [
            "Zq Shape:  (60000, 7, 7, 16)\n",
            "Generated/Reconstructed image:  (60000, 28, 28, 1)\n"
          ]
        }
      ]
    },
    {
      "cell_type": "code",
      "metadata": {
        "colab": {
          "base_uri": "https://localhost:8080/",
          "height": 1000
        },
        "id": "-q6ANszOLBQu",
        "outputId": "554750a7-b75b-418c-f8cd-052dbf872054"
      },
      "source": [
        "for i in range(10):\n",
        "  data_scaled = x_train_scaled[i]\n",
        "  # For Debug, plotting\n",
        "  plt.subplot(1, 3, 1)\n",
        "  plt.imshow(data_scaled.squeeze() + 0.5)\n",
        "  plt.title(f\"Original {y_train[i]}\")\n",
        "  plt.axis(\"off\")\n",
        "\n",
        "  plt.subplot(1, 3, 2)\n",
        "  plt.imshow(codebook_indices[i])\n",
        "  plt.title(\"Code\")\n",
        "  plt.axis(\"off\")\n",
        "\n",
        "  plt.subplot(1, 3, 3)\n",
        "  plt.imshow(generated_samples[i].squeeze() + 0.5)\n",
        "  plt.title(\"Reconstructed\")\n",
        "  plt.axis(\"off\")\n",
        "  plt.show()"
      ],
      "execution_count": 135,
      "outputs": [
        {
          "output_type": "display_data",
          "data": {
            "text/plain": [
              "<Figure size 432x288 with 3 Axes>"
            ],
            "image/png": "[encoded data removed]"
          },
          "metadata": {
            "needs_background": "light"
          }
        },
        {
          "output_type": "display_data",
          "data": {
            "text/plain": [
              "<Figure size 432x288 with 3 Axes>"
            ],
            "image/png": "[encoded data removed]"
          },
          "metadata": {
            "needs_background": "light"
          }
        },
        {
          "output_type": "display_data",
          "data": {
            "text/plain": [
              "<Figure size 432x288 with 3 Axes>"
            ],
            "image/png": "[encoded data removed]"
          },
          "metadata": {
            "needs_background": "light"
          }
        },
        {
          "output_type": "display_data",
          "data": {
            "text/plain": [
              "<Figure size 432x288 with 3 Axes>"
            ],
            "image/png": "[encoded data removed]"
          },
          "metadata": {
            "needs_background": "light"
          }
        },
        {
          "output_type": "display_data",
          "data": {
            "text/plain": [
              "<Figure size 432x288 with 3 Axes>"
            ],
            "image/png": "[encoded data removed]"
          },
          "metadata": {
            "needs_background": "light"
          }
        },
        {
          "output_type": "display_data",
          "data": {
            "text/plain": [
              "<Figure size 432x288 with 3 Axes>"
            ],
            "image/png": "[encoded data removed]"
          },
          "metadata": {
            "needs_background": "light"
          }
        },
        {
          "output_type": "display_data",
          "data": {
            "text/plain": [
              "<Figure size 432x288 with 3 Axes>"
            ],
            "image/png": "[encoded data removed]"
          },
          "metadata": {
            "needs_background": "light"
          }
        },
        {
          "output_type": "display_data",
          "data": {
            "text/plain": [
              "<Figure size 432x288 with 3 Axes>"
            ],
            "image/png": "[encoded data removed]"
          },
          "metadata": {
            "needs_background": "light"
          }
        },
        {
          "output_type": "display_data",
          "data": {
            "text/plain": [
              "<Figure size 432x288 with 3 Axes>"
            ],
            "image/png": "[encoded data removed]"
          },
          "metadata": {
            "needs_background": "light"
          }
        },
        {
          "output_type": "display_data",
          "data": {
            "text/plain": [
              "<Figure size 432x288 with 3 Axes>"
            ],
            "image/png": "[encoded data removed]"
          },
          "metadata": {
            "needs_background": "light"
          }
        }
      ]
    },
    {
      "cell_type": "code",
      "metadata": {
        "colab": {
          "base_uri": "https://localhost:8080/"
        },
        "id": "HgV7q3LhKn6x",
        "outputId": "1d3b63f8-401d-4da7-8b8c-566e697e204d"
      },
      "source": [
        "codebook_indices.shape"
      ],
      "execution_count": 128,
      "outputs": [
        {
          "output_type": "execute_result",
          "data": {
            "text/plain": [
              "(60000, 7, 7)"
            ]
          },
          "metadata": {},
          "execution_count": 128
        }
      ]
    },
    {
      "cell_type": "code",
      "metadata": {
        "id": "UH2nx3NlJsYh"
      },
      "source": [
        ""
      ],
      "execution_count": null,
      "outputs": []
    },
    {
      "cell_type": "code",
      "metadata": {
        "id": "IZqU9nuHFKL3"
      },
      "source": [
        "def image_preprocess_vq_encoder(x):\n",
        "  # x['image'] = tf.cast(x['image'], tf.float32)\n",
        "  # return model (inputs, outputs): inputs are (image, label) and there are no\n",
        "  # outputs\n",
        "\n",
        "  image_data = tf.cast(data['image'], tf.float32)\n",
        "  # print(data['image'].shape, data['label'])\n",
        "  # print(image_data[0].numpy().transpose())\n",
        "  data_scaled = (image_data / 255.0) - 0.5\n",
        "  # print(data_scaled[0].numpy().transpose())\n",
        "  # (B, eH, eW, L)\n",
        "  encoded_outputs = encoder(tf.expand_dims(data_scaled, axis=0))\n",
        "  # print(encoded_outputs.shape)\n",
        "  flat_enc_outputs = encoded_outputs.numpy().reshape(-1, encoded_outputs.shape[-1])\n",
        "  # print(flat_enc_outputs.shape)\n",
        "  # each pixel matches a index mapping to an embedding in codebook\n",
        "  codebook_indices = quantizer.get_code_indices(flat_enc_outputs)\n",
        "  # (B, eH, eW)\n",
        "  codebook_indices = codebook_indices.numpy().reshape(encoded_outputs.shape[:-1])\n",
        "  # print(codebook_indices.shape)\n",
        "  # print(codebook_indices[0])\n",
        "  return ((codebook_indices, x['label']),) # the input is tupled, and no output\n",
        "\n",
        "## TODO: operations not supported in tf function...\n",
        "batch_size = 16\n",
        "# train_ds_vq_vae = train_data.map(image_preprocess_vq_encoder).batch(batch_size).shuffle(1000)"
      ],
      "execution_count": 132,
      "outputs": []
    },
    {
      "cell_type": "code",
      "metadata": {
        "id": "lAIHgkayW90l"
      },
      "source": [
        "\n",
        "# tf.pad(codebook_indices, tf.constant([[0,0], [1, 0,], [1, 0]]), 'CONSTANT')"
      ],
      "execution_count": 179,
      "outputs": []
    },
    {
      "cell_type": "code",
      "metadata": {
        "id": "UqmLOEC3LpO8"
      },
      "source": [
        "### Create Data set\n",
        "# train_ds_vq_vae = tf.data.Dataset.from_tensor_slices(((np.expand_dims(codebook_indices, -1), y_train), )).shuffle(1000).batch(batch_size)\n",
        "# train_ds_vq_vae_nc = tf.data.Dataset.from_tensor_slices((np.expand_dims(codebook_indices, -1), )).shuffle(1000).batch(batch_size)\n",
        "## add padding to cast from (7,7) to  (8, 8)\n",
        "paddings = tf.constant([[0,0], [1, 0,], [1, 0]])\n",
        "padded_codebook_indices = tf.pad(codebook_indices, paddings, 'CONSTANT')\n",
        "train_ds_vq_vae_nc = tf.data.Dataset.from_tensor_slices((np.expand_dims(padded_codebook_indices, -1), )).shuffle(1000).batch(batch_size)\n",
        "train_ds_vq_vae = tf.data.Dataset.from_tensor_slices(((np.expand_dims(padded_codebook_indices, -1), y_train), )).shuffle(1000).batch(batch_size)\n"
      ],
      "execution_count": 211,
      "outputs": []
    },
    {
      "cell_type": "code",
      "metadata": {
        "colab": {
          "base_uri": "https://localhost:8080/"
        },
        "id": "Jo68zYD2SEsp",
        "outputId": "5563cd53-3e20-4266-9a2d-bd1228805995"
      },
      "source": [
        "for batch in train_ds_vq_vae_nc.take(3):\n",
        "  print(type(batch), len(batch))\n",
        "  print(batch[0].shape)\n",
        "  print(batch[0][0].numpy().squeeze())"
      ],
      "execution_count": 212,
      "outputs": [
        {
          "output_type": "stream",
          "name": "stdout",
          "text": [
            "<class 'tuple'> 1\n",
            "(16, 8, 8, 1)\n",
            "[[  0   0   0   0   0   0   0   0]\n",
            " [  0  66  66  66  58  87  66  66]\n",
            " [  0  66  66  66  80 126 122  66]\n",
            " [  0  66  66  87 103  83  66  66]\n",
            " [  0  66 105  93 109  78  66  66]\n",
            " [  0  75  49  52 103  67  66  66]\n",
            " [  0  33  41  50  83  66  66  66]\n",
            " [  0  66  66  66  66  66  66  66]]\n",
            "<class 'tuple'> 1\n",
            "(16, 8, 8, 1)\n",
            "[[ 0  0  0  0  0  0  0  0]\n",
            " [ 0 66 66 66 66 52 66 66]\n",
            " [ 0 66 66 73 93 13 66 66]\n",
            " [ 0 66 66 23 87 85 52 66]\n",
            " [ 0 66 66 48 78 33 66 66]\n",
            " [ 0 66 66 72 88 66 66 66]\n",
            " [ 0 66 66 13 48 66 66 66]\n",
            " [ 0 66 66 33 66 66 66 66]]\n",
            "<class 'tuple'> 1\n",
            "(16, 8, 8, 1)\n",
            "[[  0   0   0   0   0   0   0   0]\n",
            " [  0  66  66  66  66  66  66  66]\n",
            " [  0  66  66  73  85  14  66  66]\n",
            " [  0  66   6  83  75  78  66  66]\n",
            " [  0  66  66  66   6 122  66  66]\n",
            " [  0  66  66  66   6 122  66  66]\n",
            " [  0  66  66  66  23  54  66  66]\n",
            " [  0  66  66  66  41  54  66  66]]\n"
          ]
        }
      ]
    },
    {
      "cell_type": "code",
      "metadata": {
        "colab": {
          "base_uri": "https://localhost:8080/"
        },
        "id": "_PzBLpDmOSEm",
        "outputId": "02b24f6c-d474-43e5-b62b-55d2829f59ac"
      },
      "source": [
        "for batch in train_ds_vq_vae.take(3):\n",
        "  print(type(batch), len(batch))\n",
        "  print(batch[0][0].shape, batch[0][1])\n",
        "  print(batch[0][0][0].numpy().squeeze())"
      ],
      "execution_count": 213,
      "outputs": [
        {
          "output_type": "stream",
          "name": "stdout",
          "text": [
            "<class 'tuple'> 1\n",
            "(16, 8, 8, 1) tf.Tensor([6 8 4 3 4 1 7 7 0 4 4 3 1 7 2 2], shape=(16,), dtype=uint8)\n",
            "[[  0   0   0   0   0   0   0   0]\n",
            " [  0  66  66  66  87  67  66  66]\n",
            " [  0  66  66  58  50  66  66  66]\n",
            " [  0  66  66 126  73  85  52  66]\n",
            " [  0  66   6  67  47  31 122  66]\n",
            " [  0  66   6  49  40  82  66  66]\n",
            " [  0  66  33  80  79  66  66  66]\n",
            " [  0  66  66  66  66  66  66  66]]\n",
            "<class 'tuple'> 1\n",
            "(16, 8, 8, 1) tf.Tensor([0 4 4 2 8 1 1 9 7 0 9 9 4 8 1 0], shape=(16,), dtype=uint8)\n",
            "[[  0   0   0   0   0   0   0   0]\n",
            " [  0  66  66  66  52  66  66  66]\n",
            " [  0  66  66  58  93  78  66  66]\n",
            " [  0  66  66  72  66  23  54  66]\n",
            " [  0  66  75 122  66  75 122  66]\n",
            " [  0  66  75  14  66   6  54  66]\n",
            " [  0  66  33  76  85  82  66  66]\n",
            " [  0  66  66  33  66  66  66  66]]\n",
            "<class 'tuple'> 1\n",
            "(16, 8, 8, 1) tf.Tensor([3 1 1 7 1 5 5 1 9 1 0 0 2 7 0 5], shape=(16,), dtype=uint8)\n",
            "[[  0   0   0   0   0   0   0   0]\n",
            " [  0  66  66  66  66  66  66  66]\n",
            " [  0  66  66  40  43  49  66  66]\n",
            " [  0  66 105  82  73  38  66  66]\n",
            " [  0  66  58 126 126  14  66  66]\n",
            " [  0  66  66  66 105 123  66  66]\n",
            " [  0  66  66  87 103  82  66  66]\n",
            " [  0  66  33  80  66  66  66  66]]\n"
          ]
        }
      ]
    },
    {
      "cell_type": "code",
      "metadata": {
        "colab": {
          "base_uri": "https://localhost:8080/"
        },
        "id": "qlBZmc-hOZPU",
        "outputId": "ef417dfa-da15-4d3e-bf2c-512e40f814ec"
      },
      "source": [
        "# print(np.expand_dims(codebook_indices, -1)[0].squeeze())\n",
        "# print(codebook_indices[0])\n",
        "image_shape = padded_codebook_indices.shape[1:] + (1,) #(7, 7, 1)\n",
        "print(image_shape)\n",
        "label_shape = ()\n",
        "codebook_dist = tfp.distributions.PixelCNN(\n",
        "    image_shape=image_shape,\n",
        "    conditional_shape=label_shape,\n",
        "    num_resnet=1,\n",
        "    num_hierarchies=2,\n",
        "    num_filters=32,\n",
        "    num_logistic_mix=5,\n",
        "    dropout_p=.3,\n",
        "    high=127,\n",
        "    low=0,\n",
        ")\n",
        "\n",
        "tf.print(\"[DEBUG].... Construct Model...\")\n",
        "image_input = layers.Input(shape=image_shape)\n",
        "label_input = layers.Input(shape=label_shape)\n",
        "\n",
        "codebook_log_prob = codebook_dist.log_prob(image_input, conditional_input=label_input)\n",
        "# codebook_log_prob = codebook_dist.log_prob(image_input)\n",
        "\n",
        "\n",
        "codebook_class_cond_model = keras.Model(\n",
        "    inputs=[image_input, label_input], outputs=codebook_log_prob)\n",
        "# codebook_class_model = keras.Model(inputs=image_input, outputs=codebook_log_prob)\n",
        "codebook_class_cond_model.add_loss(-tf.reduce_mean(codebook_log_prob))\n",
        "codebook_class_cond_model.compile(\n",
        "    optimizer=keras.optimizers.Adam(),\n",
        "    metrics=[])\n",
        "codebook_class_cond_model.fit(train_ds_vq_vae, epochs=10)"
      ],
      "execution_count": null,
      "outputs": [
        {
          "output_type": "stream",
          "name": "stdout",
          "text": [
            "(8, 8, 1)\n",
            "[DEBUG].... Construct Model...\n",
            "Epoch 1/10\n",
            "2676/3750 [====================>.........] - ETA: 1:09 - loss: 131.1943"
          ]
        }
      ]
    },
    {
      "cell_type": "code",
      "metadata": {
        "colab": {
          "base_uri": "https://localhost:8080/",
          "height": 1000
        },
        "id": "6Pqijg9KO_xE",
        "outputId": "cf69d016-eb89-44e3-ff4d-5efd37b99dc9"
      },
      "source": [
        "samples = codebook_dist.sample(5)\n",
        "print(type(samples), samples.shape) #(B, image_input_shape)\n",
        "\n",
        "# (B, 7, 7) for current set up\n",
        "unpad_samples = samples.numpy().squeeze()[:, 1:, 1:] \n",
        "print(unpad_samples.shape)\n",
        "\n",
        "# Perform an embedding lookup.\n",
        "pretrained_embeddings = quantizer.embeddings\n",
        "priors_ohe = tf.one_hot(unpad_samples.astype(\"int32\"), vqvae_trainer.num_embeddings).numpy()\n",
        "quantized = tf.matmul(\n",
        "    priors_ohe.astype(\"float32\"), pretrained_embeddings, transpose_b=True\n",
        ")\n",
        "quantized = tf.reshape(quantized, (-1, *(encoded_outputs.shape[1:])))\n",
        "\n",
        "# Generate novel images.\n",
        "decoder = vqvae_trainer.vqvae.get_layer(\"decoder\")\n",
        "generated_samples = decoder.predict(quantized)\n",
        "# (B, H, W, C)\n",
        "print(generated_samples.shape)\n",
        "\n",
        "for i in range(len(unpad_samples)):\n",
        "    # fig = plt.figure(figsize=(5, 2))\n",
        "    \n",
        "    ## TODO: remove paddings...\n",
        "    print(unpad_sample.shape)\n",
        "    # print(unpad_sample)\n",
        "\n",
        "\n",
        "    # Plotting\n",
        "    plt.subplot(1, 2, 1)\n",
        "    plt.imshow(unpad_samples[i]) #.squeeze())\n",
        "    plt.title(\"Code/Latent Representation (generated from PixelCNN...)\")\n",
        "    plt.axis(\"off\")\n",
        "\n",
        "\n",
        "    plt.subplot(1, 2, 2)\n",
        "    plt.imshow(generated_samples[i].squeeze() + 0.5)\n",
        "    plt.title(\"Generated Sample\")\n",
        "    plt.axis(\"off\")\n",
        "\n",
        "\n",
        "    plt.show()"
      ],
      "execution_count": 209,
      "outputs": [
        {
          "output_type": "stream",
          "name": "stdout",
          "text": [
            "<class 'tensorflow.python.framework.ops.EagerTensor'> (5, 8, 8, 1)\n",
            "(5, 7, 7)\n",
            "(5, 28, 28, 1)\n",
            "(7, 7)\n"
          ]
        },
        {
          "output_type": "display_data",
          "data": {
            "text/plain": [
              "<Figure size 432x288 with 2 Axes>"
            ],
            "image/png": "[encoded data removed]"
          },
          "metadata": {
            "needs_background": "light"
          }
        },
        {
          "output_type": "stream",
          "name": "stdout",
          "text": [
            "(7, 7)\n"
          ]
        },
        {
          "output_type": "display_data",
          "data": {
            "text/plain": [
              "<Figure size 432x288 with 2 Axes>"
            ],
            "image/png": "[encoded data removed]"
          },
          "metadata": {
            "needs_background": "light"
          }
        },
        {
          "output_type": "stream",
          "name": "stdout",
          "text": [
            "(7, 7)\n"
          ]
        },
        {
          "output_type": "display_data",
          "data": {
            "text/plain": [
              "<Figure size 432x288 with 2 Axes>"
            ],
            "image/png": "[encoded data removed]"
          },
          "metadata": {
            "needs_background": "light"
          }
        },
        {
          "output_type": "stream",
          "name": "stdout",
          "text": [
            "(7, 7)\n"
          ]
        },
        {
          "output_type": "display_data",
          "data": {
            "text/plain": [
              "<Figure size 432x288 with 2 Axes>"
            ],
            "image/png": "[encoded data removed]"
          },
          "metadata": {
            "needs_background": "light"
          }
        },
        {
          "output_type": "stream",
          "name": "stdout",
          "text": [
            "(7, 7)\n"
          ]
        },
        {
          "output_type": "display_data",
          "data": {
            "text/plain": [
              "<Figure size 432x288 with 2 Axes>"
            ],
            "image/png": "[encoded data removed]"
          },
          "metadata": {
            "needs_background": "light"
          }
        }
      ]
    },
    {
      "cell_type": "code",
      "metadata": {
        "id": "PV0kXz9Yb9d1"
      },
      "source": [
        "# t = samples.numpy().squeeze()[:, 1:, 1:]\n",
        "# print(t.shape)\n",
        "# print(t[0])\n",
        "# '''\n",
        "# [[66. 79. 70. 72. 66. 57. 66.]\n",
        "#  [66. 52. 52. 92. 75. 52. 66.]\n",
        "#  [78. 74. 55. 51. 23. 66. 66.]\n",
        "#  [64. 50. 86. 78. 66. 51. 66.]\n",
        "#  [79. 73. 47. 96. 47. 66. 66.]\n",
        "#  [64. 66. 93. 55. 66. 66. 65.]\n",
        "#  [78. 72. 66. 91.  0. 66. 66.]]\n",
        "#  '''"
      ],
      "execution_count": 206,
      "outputs": []
    },
    {
      "cell_type": "code",
      "metadata": {
        "id": "tUaUwOfUb-74"
      },
      "source": [
        ""
      ],
      "execution_count": null,
      "outputs": []
    },
    {
      "cell_type": "code",
      "metadata": {
        "colab": {
          "base_uri": "https://localhost:8080/"
        },
        "id": "X07UDYgwZwwy",
        "outputId": "c157e01e-df0d-497d-9898-adebccfa0151"
      },
      "source": [
        "print(samples[0].numpy().squeeze())\n",
        "print(samples[0].numpy().squeeze()[1:, 1:])"
      ],
      "execution_count": 198,
      "outputs": [
        {
          "output_type": "stream",
          "name": "stdout",
          "text": [
            "[[  0.   0.   0.   0.   0.   0.   0.   0.]\n",
            " [  0.  66.  62.  66.  77.  66.  57.  66.]\n",
            " [  0.  65.  68.  51.  59.  67.  54.  66.]\n",
            " [  0.  65.  57.  52.  44. 146.  66.  66.]\n",
            " [  0.  66. 109.  47. 112.  66.  67.  65.]\n",
            " [  0.  52.  68.  62.  33.  65.  65.  66.]\n",
            " [  0.  65.  65.  31.   1.  21.  63.  66.]\n",
            " [  0.  44.  52.  66.  64.  66.  66.  66.]]\n",
            "[[ 66.  62.  66.  77.  66.  57.  66.]\n",
            " [ 65.  68.  51.  59.  67.  54.  66.]\n",
            " [ 65.  57.  52.  44. 146.  66.  66.]\n",
            " [ 66. 109.  47. 112.  66.  67.  65.]\n",
            " [ 52.  68.  62.  33.  65.  65.  66.]\n",
            " [ 65.  65.  31.   1.  21.  63.  66.]\n",
            " [ 44.  52.  66.  64.  66.  66.  66.]]\n"
          ]
        }
      ]
    },
    {
      "cell_type": "code",
      "metadata": {
        "id": "Bcj5pL_MbA1a"
      },
      "source": [
        ""
      ],
      "execution_count": null,
      "outputs": []
    }
  ]
}